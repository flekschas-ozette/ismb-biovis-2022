{
 "cells": [
  {
   "cell_type": "markdown",
   "id": "bcab4487-1c91-4ad0-a4fb-c41e632411d6",
   "metadata": {},
   "source": [
    "# Annotation Embedding Comparisons\n",
    "\n",
    "### UMAP vs t-SNE vs VAE\n",
    "\n",
    "In this notebook we are going to compare the annotation-based transformation embedding with untransformed embeddings across different non-linear embedding methods."
   ]
  },
  {
   "cell_type": "code",
   "execution_count": 1,
   "id": "a6e09287-c0ed-48b8-8c87-8d0ecc999988",
   "metadata": {},
   "outputs": [],
   "source": [
    "import jscatter\n",
    "import numpy as np\n",
    "import pandas as pd\n",
    "import re\n",
    "import transformation\n",
    "import colors\n",
    "from glob import glob"
   ]
  },
  {
   "cell_type": "code",
   "execution_count": 2,
   "id": "3f66a2cb-86aa-4c30-8470-dd7c18fdafc5",
   "metadata": {},
   "outputs": [],
   "source": [
    "dataset_name = 'TUMOR_006'"
   ]
  },
  {
   "cell_type": "markdown",
   "id": "4d40aec9-5a59-424d-8896-3dbfab9cd73d",
   "metadata": {},
   "source": [
    "**Data Loading:**"
   ]
  },
  {
   "cell_type": "code",
   "execution_count": 3,
   "id": "e3150622-d887-4a7b-91ea-ec15b719332c",
   "metadata": {},
   "outputs": [],
   "source": [
    "dataset = glob(f'data/mair-2022/{dataset_name}*')[0]\n",
    "df = pd.read_parquet(dataset)"
   ]
  },
  {
   "cell_type": "markdown",
   "id": "94b94814-5b12-42e9-93ed-9e2605bdd3ff",
   "metadata": {},
   "source": [
    "**Data Preparation:**"
   ]
  },
  {
   "cell_type": "code",
   "execution_count": 4,
   "id": "8e8d8cdb-3229-4d40-91be-e7da0a4ade7a",
   "metadata": {},
   "outputs": [
    {
     "name": "stdout",
     "output_type": "stream",
     "text": [
      "Markers: CD4, CD8, CD3, CD45RA, CD27, CD19, CD103, CD28, CD69, PD1, HLADR, GranzymeB, CD25, ICOS, TCRgd, CD38, CD127, Tim3\n",
      "Expression Levels: + and -\n"
     ]
    }
   ],
   "source": [
    "import transformation\n",
    "from importlib import reload\n",
    "reload(transformation)\n",
    "\n",
    "markers, expression_levels, raw_expressions = transformation.prepare(df)\n",
    "\n",
    "print(f'Markers: {\", \".join(markers)}')\n",
    "print(f'Expression Levels: {\" and \".join(expression_levels.keys())}')"
   ]
  },
  {
   "cell_type": "markdown",
   "id": "18dcc225-b52e-417b-83e7-118c379ce5bc",
   "metadata": {},
   "source": [
    "**Data Transformation:**"
   ]
  },
  {
   "cell_type": "code",
   "execution_count": 6,
   "id": "2011e078-5fe0-43e0-8587-7a884d586405",
   "metadata": {},
   "outputs": [
    {
     "name": "stdout",
     "output_type": "stream",
     "text": [
      "Transform 0-999 of 5388 clusters... done! (29s)\n",
      "Transform 1000-1999 of 5388 clusters... done! (28s)\n",
      "Transform 2000-2999 of 5388 clusters... done! (29s)\n",
      "Transform 3000-3999 of 5388 clusters... done! (29s)\n",
      "Transform 4000-4999 of 5388 clusters... done! (29s)\n",
      "Transform 5000-5999 of 5388 clusters... done! (12s)\n"
     ]
    }
   ],
   "source": [
    "import transformation\n",
    "from importlib import reload\n",
    "reload(transformation)\n",
    "\n",
    "transformed_expressions = transformation.transform(df, markers, expression_levels, log=True)"
   ]
  },
  {
   "cell_type": "markdown",
   "id": "ee083d2c-736a-411d-8c30-0fc6abc651ee",
   "metadata": {},
   "source": [
    "**UMAP Embedding:**"
   ]
  },
  {
   "cell_type": "code",
   "execution_count": 7,
   "id": "d0e5dd24-b0bd-43ff-aa6e-272defc65497",
   "metadata": {},
   "outputs": [],
   "source": [
    "from sklearn.decomposition import PCA\n",
    "from umap import UMAP\n",
    "\n",
    "pca = PCA(n_components=2).fit_transform(\n",
    "    df[[f'{m}_Windsorized' for m in markers]].values\n",
    ")\n",
    "\n",
    "df_ann_embed_umap = transformation.embed(\n",
    "    df,\n",
    "    transformed_expressions,\n",
    "    UMAP(init=pca, random_state=42),\n",
    "    save_as=f'{dataset_name}_umap_ann'\n",
    ")\n",
    "df_raw_embed_umap = transformation.embed(\n",
    "    df,\n",
    "    raw_expressions,\n",
    "    UMAP(init=pca, random_state=42),\n",
    "    save_as=f'{dataset_name}_umap_raw'\n",
    ")"
   ]
  },
  {
   "cell_type": "markdown",
   "id": "54fa8de8-896c-4710-bfec-45375ba8caf8",
   "metadata": {},
   "source": [
    "## Visualize Embedding"
   ]
  },
  {
   "cell_type": "code",
   "execution_count": 19,
   "id": "8767059e-d088-4517-833c-7dc2b4c46e78",
   "metadata": {},
   "outputs": [],
   "source": [
    "import colors\n",
    "from importlib import reload\n",
    "reload(colors)\n",
    "\n",
    "# Only difference is CD38\n",
    "phenotypes_cd38 = [\n",
    "    'CD4-CD8+CD3+CD45RA-CD27+CD19-CD103+CD28+CD69+PD1+HLADR-GranzymeB-CD25-ICOS-TCRgd-CD38+CD127-Tim3-',\n",
    "    'CD4-CD8+CD3+CD45RA-CD27+CD19-CD103+CD28+CD69+PD1+HLADR-GranzymeB-CD25-ICOS-TCRgd-CD38-CD127-Tim3-'\n",
    "]\n",
    "\n",
    "phenotypes_cd8_t_cells = [\n",
    "    'CD4-CD8+CD3+CD45RA-CD27-CD19-CD103-CD28+CD69+PD1+HLADR-GranzymeB-CD25-ICOS-TCRgd-CD38-CD127+Tim3-', # activate CD8 T cell\n",
    "    'CD4-CD8+CD3+CD45RA-CD27-CD19-CD103-CD28+CD69-PD1+HLADR-GranzymeB-CD25-ICOS-TCRgd-CD38-CD127+Tim3-', # inactivate CD8 T cell\n",
    "]\n",
    "\n",
    "\n",
    "color_map = [colors.gray_dark]+colors.glasbey_light+colors.glasbey_light+colors.glasbey_light\n",
    "\n",
    "view_config = dict(x='x', y='y', color_by='cellType', color_map=color_map, background_color='black', axes=False, opacity_unselected=0.05)\n",
    "compose_config = dict(sync_selection=True, sync_hover=True, row_height=640)"
   ]
  },
  {
   "cell_type": "code",
   "execution_count": 13,
   "id": "ece876eb-3354-4299-8ec0-a49cc3c1e9db",
   "metadata": {},
   "outputs": [
    {
     "data": {
      "application/vnd.jupyter.widget-view+json": {
       "model_id": "c3abf0e4bf684a789c40555d62b81f17",
       "version_major": 2,
       "version_minor": 0
      },
      "text/plain": [
       "GridBox(children=(HBox(children=(VBox(children=(Button(button_style='primary', icon='arrows', layout=Layout(wi…"
      ]
     },
     "metadata": {},
     "output_type": "display_data"
    }
   ],
   "source": [
    "# Uncomment the line below to load previously embedded data\n",
    "df_ann_embed_umap = pd.read_parquet(f'data/{dataset_name}_umap_ann.pq')\n",
    "df_raw_embed_umap = pd.read_parquet(f'data/{dataset_name}_umap_raw.pq')\n",
    "\n",
    "plot_ann_embed_umap = jscatter.Scatter(data=df_ann_embed_umap, **view_config)\n",
    "plot_raw_embed_umap = jscatter.Scatter(data=df_raw_embed_umap, **view_config)\n",
    "jscatter.compose([plot_ann_embed_umap, plot_raw_embed_umap], **compose_config)"
   ]
  },
  {
   "cell_type": "code",
   "execution_count": 14,
   "id": "7c3733eb-154b-43b6-affc-83e849798303",
   "metadata": {},
   "outputs": [
    {
     "data": {
      "text/plain": [
       "<jscatter.jscatter.Scatter at 0x104ad9460>"
      ]
     },
     "execution_count": 14,
     "metadata": {},
     "output_type": "execute_result"
    }
   ],
   "source": [
    "cell_idxs = df_ann_embed_umap.query('cellType in @phenotypes_cd38').index\n",
    "plot_ann_embed_umap.selection(cell_idxs)"
   ]
  },
  {
   "cell_type": "markdown",
   "id": "dc169716-022d-4c62-be36-d0d0ebbe5d3e",
   "metadata": {},
   "source": [
    "**t-SNE embeddings:**"
   ]
  },
  {
   "cell_type": "code",
   "execution_count": 90,
   "id": "cc2b2d93-666c-46a8-be2a-a063c2c465f1",
   "metadata": {},
   "outputs": [
    {
     "name": "stderr",
     "output_type": "stream",
     "text": [
      "\n",
      "KeyboardInterrupt\n",
      "\n"
     ]
    }
   ],
   "source": [
    "import transformation\n",
    "from openTSNE.sklearn import TSNE\n",
    "from importlib import reload\n",
    "reload(transformation)\n",
    "\n",
    "df_ann_embed_tsne = transformation.embed(\n",
    "    df,\n",
    "    transformed_expressions,\n",
    "    TSNE(n_jobs=-1, random_state=None),\n",
    "    save_as=f'{dataset_name}_tsne_ann_rnd_2',\n",
    ")\n",
    "df_raw_embed_tsne = transformation.embed(\n",
    "    df,\n",
    "    raw_expressions,\n",
    "    TSNE(n_jobs=-1, random_state=None),\n",
    "    save_as=f'{dataset_name}_tsne_raw_rnd_2',\n",
    ")"
   ]
  },
  {
   "cell_type": "code",
   "execution_count": 20,
   "id": "00f1e8a4-a6e7-444d-9c2f-2f1d75edb9df",
   "metadata": {},
   "outputs": [
    {
     "data": {
      "application/vnd.jupyter.widget-view+json": {
       "model_id": "9e65771083ef4b71b1e55986c099861b",
       "version_major": 2,
       "version_minor": 0
      },
      "text/plain": [
       "GridBox(children=(HBox(children=(VBox(children=(Button(button_style='primary', icon='arrows', layout=Layout(wi…"
      ]
     },
     "metadata": {},
     "output_type": "display_data"
    }
   ],
   "source": [
    "# Uncomment the line below to load previously embedded data\n",
    "df_ann_embed_tsne = pd.read_parquet(f'data/{dataset_name}_tsne_ann.pq')\n",
    "df_raw_embed_tsne = pd.read_parquet(f'data/{dataset_name}_tsne_raw.pq')\n",
    "\n",
    "plot_ann_embed_tsne = jscatter.Scatter(data=df_ann_embed_tsne, **view_config)\n",
    "plot_raw_embed_tsne = jscatter.Scatter(data=df_raw_embed_tsne, **view_config)\n",
    "\n",
    "jscatter.compose([plot_ann_embed_tsne, plot_raw_embed_tsne], **compose_config)"
   ]
  },
  {
   "cell_type": "code",
   "execution_count": 21,
   "id": "7595c6d6-a145-44c9-a620-fb6165e8f6da",
   "metadata": {},
   "outputs": [
    {
     "data": {
      "text/plain": [
       "<jscatter.jscatter.Scatter at 0x1ba73e5e0>"
      ]
     },
     "execution_count": 21,
     "metadata": {},
     "output_type": "execute_result"
    }
   ],
   "source": [
    "plot_ann_embed_tsne.selection(df_ann_embed_tsne.query('cellType in @phenotypes_cd38').index)\n",
    "plot_raw_embed_tsne.selection(df_ann_embed_tsne.query('cellType in @phenotypes_cd38').index)"
   ]
  },
  {
   "cell_type": "code",
   "execution_count": 22,
   "id": "495b7a2e-c98e-4a6e-a0ed-ff942d0672f7",
   "metadata": {},
   "outputs": [
    {
     "data": {
      "text/plain": [
       "<jscatter.jscatter.Scatter at 0x1ba73e5e0>"
      ]
     },
     "execution_count": 22,
     "metadata": {},
     "output_type": "execute_result"
    }
   ],
   "source": [
    "plot_ann_embed_tsne.color(by='CD38_Windsorized', map='viridis')\n",
    "plot_raw_embed_tsne.color(by='CD38_Windsorized', map='viridis')"
   ]
  },
  {
   "cell_type": "code",
   "execution_count": 23,
   "id": "389d077e-e94c-41c4-be94-f5e2e7c3c3ab",
   "metadata": {},
   "outputs": [
    {
     "data": {
      "text/plain": [
       "<jscatter.jscatter.Scatter at 0x1ba95ae50>"
      ]
     },
     "execution_count": 23,
     "metadata": {},
     "output_type": "execute_result"
    }
   ],
   "source": [
    "plot_ann_embed_tsne.selection(df_ann_embed_tsne.query('cellType in @phenotypes_cd8_t_cells').index)"
   ]
  },
  {
   "cell_type": "code",
   "execution_count": 24,
   "id": "60b679ae-2920-49bd-bd86-47f32f29d33e",
   "metadata": {},
   "outputs": [
    {
     "data": {
      "text/plain": [
       "<jscatter.jscatter.Scatter at 0x1ba73e5e0>"
      ]
     },
     "execution_count": 24,
     "metadata": {},
     "output_type": "execute_result"
    }
   ],
   "source": [
    "plot_ann_embed_tsne.color(by='CD69_Windsorized', map='viridis')\n",
    "plot_raw_embed_tsne.color(by='CD69_Windsorized', map='viridis')"
   ]
  },
  {
   "cell_type": "markdown",
   "id": "09c96832-9942-4663-9f0e-981721e7e5ad",
   "metadata": {},
   "source": [
    "**VAE:**"
   ]
  },
  {
   "cell_type": "code",
   "execution_count": 43,
   "id": "6f68fd72-a825-45f0-afcd-4c2528926b4e",
   "metadata": {
    "scrolled": true,
    "tags": []
   },
   "outputs": [
    {
     "name": "stdout",
     "output_type": "stream",
     "text": [
      "Epoch 1/50\n",
      "1350/1350 [==============================] - 10s 7ms/step - loss: 144.6847 - reconstruction_loss: 137.3882 - kl_loss: 3.5184\n",
      "Epoch 2/50\n",
      "1350/1350 [==============================] - 10s 7ms/step - loss: 138.6613 - reconstruction_loss: 134.5980 - kl_loss: 3.9239\n",
      "Epoch 3/50\n",
      "1350/1350 [==============================] - 10s 7ms/step - loss: 138.2046 - reconstruction_loss: 134.1141 - kl_loss: 4.0260\n",
      "Epoch 4/50\n",
      "1350/1350 [==============================] - 10s 7ms/step - loss: 137.9529 - reconstruction_loss: 133.8164 - kl_loss: 4.0951\n",
      "Epoch 5/50\n",
      "1350/1350 [==============================] - 10s 7ms/step - loss: 137.7946 - reconstruction_loss: 133.6237 - kl_loss: 4.1521\n",
      "Epoch 6/50\n",
      "1350/1350 [==============================] - 10s 7ms/step - loss: 137.7088 - reconstruction_loss: 133.4772 - kl_loss: 4.1974\n",
      "Epoch 7/50\n",
      "1350/1350 [==============================] - 10s 7ms/step - loss: 137.5599 - reconstruction_loss: 133.3521 - kl_loss: 4.2401\n",
      "Epoch 8/50\n",
      "1350/1350 [==============================] - 10s 7ms/step - loss: 137.5229 - reconstruction_loss: 133.2470 - kl_loss: 4.2676\n",
      "Epoch 9/50\n",
      "1350/1350 [==============================] - 10s 7ms/step - loss: 137.4800 - reconstruction_loss: 133.1675 - kl_loss: 4.2970\n",
      "Epoch 10/50\n",
      "1350/1350 [==============================] - 10s 7ms/step - loss: 137.4285 - reconstruction_loss: 133.0790 - kl_loss: 4.3234\n",
      "Epoch 11/50\n",
      "1350/1350 [==============================] - 10s 7ms/step - loss: 137.3534 - reconstruction_loss: 133.0066 - kl_loss: 4.3458\n",
      "Epoch 12/50\n",
      "1350/1350 [==============================] - 10s 7ms/step - loss: 137.3345 - reconstruction_loss: 132.9355 - kl_loss: 4.3847\n",
      "Epoch 13/50\n",
      "1350/1350 [==============================] - 10s 7ms/step - loss: 137.2753 - reconstruction_loss: 132.8734 - kl_loss: 4.3889\n",
      "Epoch 14/50\n",
      "1350/1350 [==============================] - 10s 7ms/step - loss: 137.2452 - reconstruction_loss: 132.8321 - kl_loss: 4.4078\n",
      "Epoch 15/50\n",
      "1350/1350 [==============================] - 10s 7ms/step - loss: 137.1770 - reconstruction_loss: 132.7755 - kl_loss: 4.4295\n",
      "Epoch 16/50\n",
      "1350/1350 [==============================] - 10s 7ms/step - loss: 137.1889 - reconstruction_loss: 132.7300 - kl_loss: 4.4396\n",
      "Epoch 17/50\n",
      "1350/1350 [==============================] - 10s 7ms/step - loss: 137.1349 - reconstruction_loss: 132.6800 - kl_loss: 4.4556\n",
      "Epoch 18/50\n",
      "1350/1350 [==============================] - 10s 7ms/step - loss: 137.1255 - reconstruction_loss: 132.6474 - kl_loss: 4.4647\n",
      "Epoch 19/50\n",
      "1350/1350 [==============================] - 10s 7ms/step - loss: 137.0935 - reconstruction_loss: 132.6290 - kl_loss: 4.4823\n",
      "Epoch 20/50\n",
      "1350/1350 [==============================] - 10s 7ms/step - loss: 137.0495 - reconstruction_loss: 132.5794 - kl_loss: 4.4909\n",
      "Epoch 21/50\n",
      "1350/1350 [==============================] - 10s 7ms/step - loss: 137.0536 - reconstruction_loss: 132.5568 - kl_loss: 4.4987\n",
      "Epoch 22/50\n",
      "1350/1350 [==============================] - 10s 7ms/step - loss: 137.0271 - reconstruction_loss: 132.5351 - kl_loss: 4.4980\n",
      "Epoch 23/50\n",
      "1350/1350 [==============================] - 10s 7ms/step - loss: 136.9789 - reconstruction_loss: 132.4918 - kl_loss: 4.5112\n",
      "Epoch 24/50\n",
      "1350/1350 [==============================] - 10s 7ms/step - loss: 137.0411 - reconstruction_loss: 132.4994 - kl_loss: 4.5199\n",
      "Epoch 25/50\n",
      "1350/1350 [==============================] - 10s 7ms/step - loss: 137.0499 - reconstruction_loss: 132.4565 - kl_loss: 4.5340\n",
      "Epoch 26/50\n",
      "1350/1350 [==============================] - 10s 7ms/step - loss: 137.0065 - reconstruction_loss: 132.4396 - kl_loss: 4.5436\n",
      "Epoch 27/50\n",
      "1350/1350 [==============================] - 10s 7ms/step - loss: 136.9438 - reconstruction_loss: 132.3900 - kl_loss: 4.5600\n",
      "Epoch 28/50\n",
      "1350/1350 [==============================] - 9s 7ms/step - loss: 136.9688 - reconstruction_loss: 132.3889 - kl_loss: 4.5667\n",
      "Epoch 29/50\n",
      "1350/1350 [==============================] - 10s 7ms/step - loss: 136.9030 - reconstruction_loss: 132.3648 - kl_loss: 4.5611\n",
      "Epoch 30/50\n",
      "1350/1350 [==============================] - 10s 7ms/step - loss: 136.8886 - reconstruction_loss: 132.3403 - kl_loss: 4.5716\n",
      "Epoch 31/50\n",
      "1350/1350 [==============================] - 10s 7ms/step - loss: 136.9352 - reconstruction_loss: 132.3428 - kl_loss: 4.5774\n",
      "Epoch 32/50\n",
      "1350/1350 [==============================] - 10s 7ms/step - loss: 136.9023 - reconstruction_loss: 132.3316 - kl_loss: 4.5782\n",
      "Epoch 33/50\n",
      "1350/1350 [==============================] - 10s 7ms/step - loss: 136.9410 - reconstruction_loss: 132.3279 - kl_loss: 4.5861\n",
      "Epoch 34/50\n",
      "1350/1350 [==============================] - 10s 7ms/step - loss: 136.9004 - reconstruction_loss: 132.2922 - kl_loss: 4.5865\n",
      "Epoch 35/50\n",
      "1350/1350 [==============================] - 10s 7ms/step - loss: 136.8808 - reconstruction_loss: 132.3216 - kl_loss: 4.5753\n",
      "Epoch 36/50\n",
      "1350/1350 [==============================] - 10s 7ms/step - loss: 136.8847 - reconstruction_loss: 132.3393 - kl_loss: 4.5807\n",
      "Epoch 37/50\n",
      "1350/1350 [==============================] - 10s 7ms/step - loss: 136.8808 - reconstruction_loss: 132.2827 - kl_loss: 4.5964\n",
      "Epoch 38/50\n",
      "1350/1350 [==============================] - 10s 7ms/step - loss: 136.8827 - reconstruction_loss: 132.2565 - kl_loss: 4.6084\n",
      "Epoch 39/50\n",
      "1350/1350 [==============================] - 10s 7ms/step - loss: 136.8740 - reconstruction_loss: 132.2182 - kl_loss: 4.6148\n",
      "Epoch 40/50\n",
      "1350/1350 [==============================] - 11s 8ms/step - loss: 136.8353 - reconstruction_loss: 132.2319 - kl_loss: 4.6225\n",
      "Epoch 41/50\n",
      "1350/1350 [==============================] - 11s 8ms/step - loss: 136.8280 - reconstruction_loss: 132.2167 - kl_loss: 4.6110\n",
      "Epoch 42/50\n",
      "1350/1350 [==============================] - 11s 8ms/step - loss: 136.8752 - reconstruction_loss: 132.2606 - kl_loss: 4.6192\n",
      "Epoch 43/50\n",
      "1350/1350 [==============================] - 11s 8ms/step - loss: 136.8306 - reconstruction_loss: 132.1964 - kl_loss: 4.6297\n",
      "Epoch 44/50\n",
      "1350/1350 [==============================] - 11s 8ms/step - loss: 136.8102 - reconstruction_loss: 132.1928 - kl_loss: 4.6190\n",
      "Epoch 45/50\n",
      "1350/1350 [==============================] - 11s 8ms/step - loss: 136.7821 - reconstruction_loss: 132.1824 - kl_loss: 4.6373\n",
      "Epoch 46/50\n",
      "1350/1350 [==============================] - 11s 8ms/step - loss: 136.8072 - reconstruction_loss: 132.1711 - kl_loss: 4.6381\n",
      "Epoch 47/50\n",
      "1350/1350 [==============================] - 11s 8ms/step - loss: 136.8347 - reconstruction_loss: 132.1846 - kl_loss: 4.6437\n",
      "Epoch 48/50\n",
      "1350/1350 [==============================] - 10s 8ms/step - loss: 136.8271 - reconstruction_loss: 132.1647 - kl_loss: 4.6390\n",
      "Epoch 49/50\n",
      "1350/1350 [==============================] - 10s 8ms/step - loss: 136.8874 - reconstruction_loss: 132.1777 - kl_loss: 4.6508\n",
      "Epoch 50/50\n",
      "1350/1350 [==============================] - 10s 8ms/step - loss: 136.7684 - reconstruction_loss: 132.1580 - kl_loss: 4.6386\n"
     ]
    }
   ],
   "source": [
    "from sklearn.preprocessing import MinMaxScaler\n",
    "\n",
    "import vae\n",
    "import transformation\n",
    "from importlib import reload\n",
    "\n",
    "reload(vae)\n",
    "reload(transformation)\n",
    "\n",
    "winsorized_expression = df[[f'{m}_Windsorized' for m in markers]].values\n",
    "\n",
    "transformed_expressions_norm = MinMaxScaler().fit_transform(transformed_expressions)\n",
    "winsorized_expression_norm = MinMaxScaler().fit_transform(winsorized_expression)\n",
    "raw_expression_norm = MinMaxScaler().fit_transform(raw_expressions)\n",
    "\n",
    "vae_ann = vae.create(len(markers))\n",
    "vae_win = vae.create(len(markers))\n",
    "vae_raw = vae.create(len(markers))\n",
    "\n",
    "vae_ann.fit(transformed_expressions_norm, epochs=50, batch_size=256)\n",
    "vae_win.fit(winsorized_expression_norm, epochs=50, batch_size=256)\n",
    "vae_raw.fit(raw_expression_norm, epochs=50, batch_size=256)\n",
    "\n",
    "df_ann_embed_vae = transformation.to_df(df, vae_ann.encoder.predict(transformed_expressions_norm)[2], save_as=f'{dataset_name}_vae_ann')\n",
    "df_win_embed_vae = transformation.to_df(df, vae_win.encoder.predict(winsorized_expression_norm)[2], save_as=f'{dataset_name}_vae_win')\n",
    "df_raw_embed_vae = transformation.to_df(df, vae_raw.encoder.predict(raw_expression_norm)[2], save_as=f'{dataset_name}_vae_raw')"
   ]
  },
  {
   "cell_type": "code",
   "execution_count": 28,
   "id": "76bb9a97-7de9-4eb4-8e0f-de5b7a06763e",
   "metadata": {},
   "outputs": [
    {
     "data": {
      "application/vnd.jupyter.widget-view+json": {
       "model_id": "96b3c78276184cfba4217396c6ab7f97",
       "version_major": 2,
       "version_minor": 0
      },
      "text/plain": [
       "GridBox(children=(HBox(children=(VBox(children=(Button(button_style='primary', icon='arrows', layout=Layout(wi…"
      ]
     },
     "metadata": {},
     "output_type": "display_data"
    }
   ],
   "source": [
    "# Uncomment the line below to load previously embedded data\n",
    "df_ann_embed_vae = pd.read_parquet(f'data/{dataset_name}_vae_ann.pq')\n",
    "df_win_embed_vae = pd.read_parquet(f'data/{dataset_name}_vae_win.pq')\n",
    "df_raw_embed_vae = pd.read_parquet(f'data/{dataset_name}_vae_raw.pq')\n",
    "\n",
    "plot_ann_embed_vae = jscatter.Scatter(data=df_ann_embed_vae, **view_config)\n",
    "plot_win_embed_vae = jscatter.Scatter(data=df_win_embed_vae, **view_config)\n",
    "plot_raw_embed_vae = jscatter.Scatter(data=df_raw_embed_vae, **view_config)\n",
    "\n",
    "jscatter.compose([plot_ann_embed_vae, plot_win_embed_vae, plot_raw_embed_vae], **compose_config)"
   ]
  },
  {
   "cell_type": "code",
   "execution_count": null,
   "id": "dcc4681a-2771-4ff5-baac-3bf79336a0d4",
   "metadata": {},
   "outputs": [],
   "source": []
  }
 ],
 "metadata": {
  "kernelspec": {
   "display_name": "Python 3 (ipykernel)",
   "language": "python",
   "name": "python3"
  },
  "language_info": {
   "codemirror_mode": {
    "name": "ipython",
    "version": 3
   },
   "file_extension": ".py",
   "mimetype": "text/x-python",
   "name": "python",
   "nbconvert_exporter": "python",
   "pygments_lexer": "ipython3",
   "version": "3.9.13"
  }
 },
 "nbformat": 4,
 "nbformat_minor": 5
}
