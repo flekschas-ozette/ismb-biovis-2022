{
 "cells": [
  {
   "cell_type": "markdown",
   "id": "2c849ea5-87e7-4446-8637-f0d2f8ce0270",
   "metadata": {},
   "source": [
    "# Data Transformation Distribution Changes\n",
    "\n",
    "In this notebook we're plotting the distribution changes for CD3+, CD4+, and CD8- T Helper cells to illustrate how the expression changes as part of our transformation approach."
   ]
  },
  {
   "cell_type": "code",
   "execution_count": 1,
   "id": "5b7db732-d4ba-4da8-bcff-21a9074bc699",
   "metadata": {},
   "outputs": [],
   "source": [
    "import matplotlib.pyplot as plt\n",
    "import numpy as np\n",
    "import pandas as pd\n",
    "from glob import glob"
   ]
  },
  {
   "cell_type": "code",
   "execution_count": 2,
   "id": "18040722-431f-4ff2-b05b-bbbf3d41a632",
   "metadata": {},
   "outputs": [],
   "source": [
    "dataset_name = 'TUMOR_006'\n",
    "dataset = glob(f'data/mair-2022/{dataset_name}*')[0]\n",
    "df = pd.read_parquet(dataset)\n",
    "\n",
    "cd4_raw = df.query('CD4_faust_annotation == \"+\"').CD4.values\n",
    "cd8_raw = df.query('CD8_faust_annotation == \"-\"').CD8.values\n",
    "cd3_raw = df.query('CD3_faust_annotation == \"+\"').CD3.values"
   ]
  },
  {
   "cell_type": "code",
   "execution_count": 3,
   "id": "d4622c4d-4480-4d95-8801-721ec25462d6",
   "metadata": {},
   "outputs": [],
   "source": [
    "def adjust_colors(axs):\n",
    "    for ax in axs:\n",
    "        ax.set_facecolor('w')\n",
    "        ax.spines['bottom'].set_color('#bbb')\n",
    "        ax.spines['top'].set_color('w') \n",
    "        ax.spines['right'].set_color('w')\n",
    "        ax.spines['left'].set_color('w')\n",
    "        ax.tick_params(axis='x', colors='#bbb')\n",
    "        ax.tick_params(axis='y', colors='w')\n",
    "        ax.xaxis.label.set_color('#bbb')\n",
    "        ax.yaxis.label.set_color('w')"
   ]
  },
  {
   "cell_type": "code",
   "execution_count": 4,
   "id": "8c7dd3a7-b835-439b-99ad-8d148c61987a",
   "metadata": {},
   "outputs": [],
   "source": [
    "# Okabe Ito\n",
    "cd3_color = '#56B4E9'\n",
    "cd4_color = '#F0E442'\n",
    "cd8_color = '#CC79A7'"
   ]
  },
  {
   "cell_type": "markdown",
   "id": "bd4334b2-acd7-49d4-86ce-57c2bb384e27",
   "metadata": {},
   "source": [
    "### Raw Expression"
   ]
  },
  {
   "cell_type": "code",
   "execution_count": 5,
   "id": "58b206d1-8aa3-4d20-88d4-8bd799f699a9",
   "metadata": {},
   "outputs": [
    {
     "data": {
      "image/png": "[encoded data removed]",
      "text/plain": [
       "<Figure size 576x144 with 3 Axes>"
      ]
     },
     "metadata": {
      "needs_background": "dark"
     },
     "output_type": "display_data"
    }
   ],
   "source": [
    "fig, (ax1, ax2, ax3) = plt.subplots(3, 1, sharex=True, sharey=True)\n",
    "fig.set_size_inches(8, 2)\n",
    "fig.subplots_adjust(hspace=0)\n",
    "\n",
    "ax1.hist(cd3_raw, 100, density=True, color=cd3_color)\n",
    "ax2.hist(cd4_raw, 100, density=True, color=cd4_color)\n",
    "ax3.hist(cd8_raw, 100, density=True, color=cd8_color)\n",
    "adjust_colors([ax1, ax2, ax3])\n",
    "\n",
    "fig.savefig('CD3+_vs_CD4+_CD8-_raw.png', dpi=100)\n",
    "plt.show()"
   ]
  },
  {
   "cell_type": "markdown",
   "id": "e5ea1878-01df-4b2d-bca2-9d596605fc34",
   "metadata": {},
   "source": [
    "### Winsorization"
   ]
  },
  {
   "cell_type": "code",
   "execution_count": 6,
   "id": "9fad9be0-2d4b-4a72-b50a-f61d76931549",
   "metadata": {},
   "outputs": [
    {
     "data": {
      "image/png": "[encoded data removed]",
      "text/plain": [
       "<Figure size 576x144 with 3 Axes>"
      ]
     },
     "metadata": {
      "needs_background": "dark"
     },
     "output_type": "display_data"
    }
   ],
   "source": [
    "from scipy.stats.mstats import winsorize\n",
    "\n",
    "cd4_winsorized = winsorize(cd4_raw, limits=[0.01, 0.01])\n",
    "cd8_winsorized = winsorize(cd8_raw, limits=[0.01, 0.01])\n",
    "cd3_winsorized = winsorize(cd3_raw, limits=[0.01, 0.01])\n",
    "\n",
    "fig, (ax1, ax2, ax3) = plt.subplots(3, 1, sharex=True, sharey=True)\n",
    "fig.set_size_inches(8, 2)\n",
    "fig.subplots_adjust(hspace=0)\n",
    "\n",
    "ax1.hist(cd3_winsorized, 50, density=True, color=cd3_color)\n",
    "ax2.hist(cd4_winsorized, 50, density=True, color=cd4_color)\n",
    "ax3.hist(cd8_winsorized, 50, density=True, color=cd8_color)\n",
    "adjust_colors([ax1, ax2, ax3])\n",
    "\n",
    "fig.savefig('CD3+_vs_CD4+_CD8-_winsorized_white.png', dpi=100)\n",
    "plt.show()"
   ]
  },
  {
   "cell_type": "markdown",
   "id": "4a6dc4fb-16ac-46ac-a693-4b913f17e473",
   "metadata": {},
   "source": [
    "### Normalization"
   ]
  },
  {
   "cell_type": "code",
   "execution_count": 7,
   "id": "b6aa13b2-61f3-4cb8-a561-4de044501a72",
   "metadata": {},
   "outputs": [
    {
     "data": {
      "image/png": "[encoded data removed]",
      "text/plain": [
       "<Figure size 576x144 with 3 Axes>"
      ]
     },
     "metadata": {
      "needs_background": "dark"
     },
     "output_type": "display_data"
    }
   ],
   "source": [
    "def norm(values):\n",
    "    mean = values.mean()\n",
    "    sd = np.nan_to_num(values.std())\n",
    "    sd = 1 if sd == 0 else sd\n",
    "\n",
    "    values_normalized = values.copy()\n",
    "    values_normalized -= mean\n",
    "    values_normalized /= sd\n",
    "    \n",
    "    return values_normalized\n",
    "\n",
    "cd4_normalized = norm(cd4_winsorized)\n",
    "cd8_normalized = norm(cd8_winsorized)\n",
    "cd3_normalized = norm(cd3_winsorized)\n",
    "\n",
    "fig, (ax1, ax2, ax3) = plt.subplots(3, 1, sharex=True, sharey=True)\n",
    "fig.set_size_inches(8, 2)\n",
    "fig.subplots_adjust(hspace=0)\n",
    "\n",
    "ax1.hist(cd3_normalized, 50, density=True, color=cd3_color)\n",
    "ax2.hist(cd4_normalized, 50, density=True, color=cd4_color)\n",
    "ax3.hist(cd8_normalized, 50, density=True, color=cd8_color)\n",
    "adjust_colors([ax1, ax2, ax3])\n",
    "\n",
    "fig.savefig('CD3+_vs_CD4+_CD8-_normalized_white.png', dpi=100)\n",
    "plt.show()"
   ]
  },
  {
   "cell_type": "markdown",
   "id": "d3d62807-4b96-4d6c-939c-6442fb340583",
   "metadata": {},
   "source": [
    "### Translation"
   ]
  },
  {
   "cell_type": "code",
   "execution_count": 8,
   "id": "5fb2e23c-ea8b-43d7-b5bc-e5f4727e8b9c",
   "metadata": {},
   "outputs": [
    {
     "data": {
      "image/png": "[encoded data removed]",
      "text/plain": [
       "<Figure size 576x144 with 3 Axes>"
      ]
     },
     "metadata": {
      "needs_background": "dark"
     },
     "output_type": "display_data"
    }
   ],
   "source": [
    "cd4_translated = cd4_normalized + 10\n",
    "cd8_translated = cd8_normalized\n",
    "cd3_translated = cd3_normalized + 10\n",
    "\n",
    "fig, (ax1, ax2, ax3) = plt.subplots(3, 1, sharex=True, sharey=True)\n",
    "fig.set_size_inches(8, 2)\n",
    "fig.subplots_adjust(hspace=0)\n",
    "\n",
    "ax1.hist(cd3_translated, 50, density=True, color=cd3_color)\n",
    "ax2.hist(cd4_translated, 50, density=True, color=cd4_color)\n",
    "ax3.hist(cd8_translated, 50, density=True, color=cd8_color)\n",
    "adjust_colors([ax1, ax2, ax3])\n",
    "\n",
    "fig.savefig('CD3+_vs_CD4+_CD8-_translated_white.png', dpi=100)\n",
    "plt.show()"
   ]
  },
  {
   "cell_type": "code",
   "execution_count": null,
   "id": "49e91e28-cf6f-43cc-a9dc-7b2e2a970ef2",
   "metadata": {},
   "outputs": [],
   "source": []
  }
 ],
 "metadata": {
  "kernelspec": {
   "display_name": "Python 3 (ipykernel)",
   "language": "python",
   "name": "python3"
  },
  "language_info": {
   "codemirror_mode": {
    "name": "ipython",
    "version": 3
   },
   "file_extension": ".py",
   "mimetype": "text/x-python",
   "name": "python",
   "nbconvert_exporter": "python",
   "pygments_lexer": "ipython3",
   "version": "3.9.13"
  }
 },
 "nbformat": 4,
 "nbformat_minor": 5
}
