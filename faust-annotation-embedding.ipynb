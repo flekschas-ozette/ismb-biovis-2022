{
 "cells": [
  {
   "cell_type": "markdown",
   "id": "bcab4487-1c91-4ad0-a4fb-c41e632411d6",
   "metadata": {},
   "source": [
    "# FAUST Annotation Embedding\n",
    "\n",
    "In this notebook we are generating an annotation-driven embedding using FAUST annotations of the MMRF study."
   ]
  },
  {
   "cell_type": "code",
   "execution_count": 1,
   "id": "a6e09287-c0ed-48b8-8c87-8d0ecc999988",
   "metadata": {},
   "outputs": [],
   "source": [
    "import jscatter\n",
    "import numpy as np\n",
    "import pandas as pd\n",
    "from cmaps import glasbey_dark"
   ]
  },
  {
   "cell_type": "markdown",
   "id": "4d40aec9-5a59-424d-8896-3dbfab9cd73d",
   "metadata": {},
   "source": [
    "## Data Loading"
   ]
  },
  {
   "cell_type": "code",
   "execution_count": 9,
   "id": "e3150622-d887-4a7b-91ea-ec15b719332c",
   "metadata": {},
   "outputs": [
    {
     "data": {
      "text/html": [
       "<div>\n",
       "<style scoped>\n",
       "    .dataframe tbody tr th:only-of-type {\n",
       "        vertical-align: middle;\n",
       "    }\n",
       "\n",
       "    .dataframe tbody tr th {\n",
       "        vertical-align: top;\n",
       "    }\n",
       "\n",
       "    .dataframe thead th {\n",
       "        text-align: right;\n",
       "    }\n",
       "</style>\n",
       "<table border=\"1\" class=\"dataframe\">\n",
       "  <thead>\n",
       "    <tr style=\"text-align: right;\">\n",
       "      <th></th>\n",
       "      <th>umapX</th>\n",
       "      <th>umapY</th>\n",
       "      <th>sampleOfOrigin</th>\n",
       "      <th>faustLabels</th>\n",
       "      <th>CD3</th>\n",
       "      <th>HLADR</th>\n",
       "      <th>NKG2D</th>\n",
       "      <th>CD8</th>\n",
       "      <th>CD45</th>\n",
       "      <th>CD4</th>\n",
       "      <th>...</th>\n",
       "      <th>CD56_faust_annotation</th>\n",
       "      <th>KLRG1_faust_annotation</th>\n",
       "      <th>Ki67_faust_annotation</th>\n",
       "      <th>PDL1_faust_annotation</th>\n",
       "      <th>Tbet_faust_annotation</th>\n",
       "      <th>ICOS_faust_annotation</th>\n",
       "      <th>NKG2A_faust_annotation</th>\n",
       "      <th>CD138_faust_annotation</th>\n",
       "      <th>CD1c_faust_annotation</th>\n",
       "      <th>DNAM1_faust_annotation</th>\n",
       "    </tr>\n",
       "  </thead>\n",
       "  <tbody>\n",
       "    <tr>\n",
       "      <th>0</th>\n",
       "      <td>1.538682</td>\n",
       "      <td>0.374683</td>\n",
       "      <td>MMRF_1267.fcs</td>\n",
       "      <td>CD3-HLADR+NKG2D-CD8-CD45+CD4-CD5-CD14-CD19+CD1...</td>\n",
       "      <td>1.075370</td>\n",
       "      <td>5.342214</td>\n",
       "      <td>0.000000</td>\n",
       "      <td>0.000268</td>\n",
       "      <td>4.862887</td>\n",
       "      <td>0.824602</td>\n",
       "      <td>...</td>\n",
       "      <td>-</td>\n",
       "      <td>-</td>\n",
       "      <td>-</td>\n",
       "      <td>-</td>\n",
       "      <td>-</td>\n",
       "      <td>-</td>\n",
       "      <td>-</td>\n",
       "      <td>-</td>\n",
       "      <td>+</td>\n",
       "      <td>-</td>\n",
       "    </tr>\n",
       "    <tr>\n",
       "      <th>1</th>\n",
       "      <td>-3.134375</td>\n",
       "      <td>11.461645</td>\n",
       "      <td>MMRF_1267.fcs</td>\n",
       "      <td>0_0_0_0_0</td>\n",
       "      <td>5.824924</td>\n",
       "      <td>0.915367</td>\n",
       "      <td>3.522006</td>\n",
       "      <td>4.770885</td>\n",
       "      <td>4.734933</td>\n",
       "      <td>0.000000</td>\n",
       "      <td>...</td>\n",
       "      <td>-</td>\n",
       "      <td>+</td>\n",
       "      <td>-</td>\n",
       "      <td>-</td>\n",
       "      <td>-</td>\n",
       "      <td>-</td>\n",
       "      <td>-</td>\n",
       "      <td>-</td>\n",
       "      <td>-</td>\n",
       "      <td>+</td>\n",
       "    </tr>\n",
       "    <tr>\n",
       "      <th>2</th>\n",
       "      <td>-0.935311</td>\n",
       "      <td>12.303033</td>\n",
       "      <td>MMRF_1267.fcs</td>\n",
       "      <td>0_0_0_0_0</td>\n",
       "      <td>5.358062</td>\n",
       "      <td>1.360134</td>\n",
       "      <td>1.814536</td>\n",
       "      <td>2.393424</td>\n",
       "      <td>4.235237</td>\n",
       "      <td>0.000000</td>\n",
       "      <td>...</td>\n",
       "      <td>-</td>\n",
       "      <td>-</td>\n",
       "      <td>+</td>\n",
       "      <td>-</td>\n",
       "      <td>+</td>\n",
       "      <td>+</td>\n",
       "      <td>-</td>\n",
       "      <td>-</td>\n",
       "      <td>+</td>\n",
       "      <td>+</td>\n",
       "    </tr>\n",
       "    <tr>\n",
       "      <th>3</th>\n",
       "      <td>2.128425</td>\n",
       "      <td>-5.859528</td>\n",
       "      <td>MMRF_1267.fcs</td>\n",
       "      <td>CD3-HLADR-NKG2D-CD8-CD45+CD4-CD5-CD14-CD19-CD1...</td>\n",
       "      <td>0.000000</td>\n",
       "      <td>2.271876</td>\n",
       "      <td>0.347916</td>\n",
       "      <td>0.000000</td>\n",
       "      <td>1.779969</td>\n",
       "      <td>0.547474</td>\n",
       "      <td>...</td>\n",
       "      <td>-</td>\n",
       "      <td>-</td>\n",
       "      <td>-</td>\n",
       "      <td>-</td>\n",
       "      <td>-</td>\n",
       "      <td>-</td>\n",
       "      <td>-</td>\n",
       "      <td>-</td>\n",
       "      <td>-</td>\n",
       "      <td>-</td>\n",
       "    </tr>\n",
       "    <tr>\n",
       "      <th>4</th>\n",
       "      <td>-2.191941</td>\n",
       "      <td>13.085436</td>\n",
       "      <td>MMRF_1267.fcs</td>\n",
       "      <td>0_0_0_0_0</td>\n",
       "      <td>5.449534</td>\n",
       "      <td>0.000000</td>\n",
       "      <td>2.883831</td>\n",
       "      <td>4.385998</td>\n",
       "      <td>4.845957</td>\n",
       "      <td>0.000000</td>\n",
       "      <td>...</td>\n",
       "      <td>-</td>\n",
       "      <td>+</td>\n",
       "      <td>-</td>\n",
       "      <td>-</td>\n",
       "      <td>-</td>\n",
       "      <td>-</td>\n",
       "      <td>-</td>\n",
       "      <td>+</td>\n",
       "      <td>-</td>\n",
       "      <td>-</td>\n",
       "    </tr>\n",
       "  </tbody>\n",
       "</table>\n",
       "<p>5 rows × 121 columns</p>\n",
       "</div>"
      ],
      "text/plain": [
       "      umapX      umapY sampleOfOrigin  \\\n",
       "0  1.538682   0.374683  MMRF_1267.fcs   \n",
       "1 -3.134375  11.461645  MMRF_1267.fcs   \n",
       "2 -0.935311  12.303033  MMRF_1267.fcs   \n",
       "3  2.128425  -5.859528  MMRF_1267.fcs   \n",
       "4 -2.191941  13.085436  MMRF_1267.fcs   \n",
       "\n",
       "                                         faustLabels       CD3     HLADR  \\\n",
       "0  CD3-HLADR+NKG2D-CD8-CD45+CD4-CD5-CD14-CD19+CD1...  1.075370  5.342214   \n",
       "1                                          0_0_0_0_0  5.824924  0.915367   \n",
       "2                                          0_0_0_0_0  5.358062  1.360134   \n",
       "3  CD3-HLADR-NKG2D-CD8-CD45+CD4-CD5-CD14-CD19-CD1...  0.000000  2.271876   \n",
       "4                                          0_0_0_0_0  5.449534  0.000000   \n",
       "\n",
       "      NKG2D       CD8      CD45       CD4  ...  CD56_faust_annotation  \\\n",
       "0  0.000000  0.000268  4.862887  0.824602  ...                      -   \n",
       "1  3.522006  4.770885  4.734933  0.000000  ...                      -   \n",
       "2  1.814536  2.393424  4.235237  0.000000  ...                      -   \n",
       "3  0.347916  0.000000  1.779969  0.547474  ...                      -   \n",
       "4  2.883831  4.385998  4.845957  0.000000  ...                      -   \n",
       "\n",
       "   KLRG1_faust_annotation  Ki67_faust_annotation  PDL1_faust_annotation  \\\n",
       "0                       -                      -                      -   \n",
       "1                       +                      -                      -   \n",
       "2                       -                      +                      -   \n",
       "3                       -                      -                      -   \n",
       "4                       +                      -                      -   \n",
       "\n",
       "   Tbet_faust_annotation  ICOS_faust_annotation  NKG2A_faust_annotation  \\\n",
       "0                      -                      -                       -   \n",
       "1                      -                      -                       -   \n",
       "2                      +                      +                       -   \n",
       "3                      -                      -                       -   \n",
       "4                      -                      -                       -   \n",
       "\n",
       "   CD138_faust_annotation  CD1c_faust_annotation  DNAM1_faust_annotation  \n",
       "0                       -                      +                       -  \n",
       "1                       -                      -                       +  \n",
       "2                       -                      +                       +  \n",
       "3                       -                      -                       -  \n",
       "4                       +                      -                       -  \n",
       "\n",
       "[5 rows x 121 columns]"
      ]
     },
     "execution_count": 9,
     "metadata": {},
     "output_type": "execute_result"
    }
   ],
   "source": [
    "data = pd.read_csv('data/MMRF_1267_output.csv')\n",
    "data.head(5)"
   ]
  },
  {
   "cell_type": "markdown",
   "id": "94b94814-5b12-42e9-93ed-9e2605bdd3ff",
   "metadata": {},
   "source": [
    "## Data Preparation\n",
    "\n",
    "We'll start by extracting the \"raw\" marker expression values"
   ]
  },
  {
   "cell_type": "code",
   "execution_count": 5,
   "id": "a1192a01-0688-4a79-ae47-bd7c75a75b91",
   "metadata": {},
   "outputs": [],
   "source": [
    "markers = ['CD3', 'HLADR', 'NKG2D', 'CD8', 'CD45', 'CD4', 'CD5', 'CD14', 'CD19', 'CD127', 'CD11b', 'CD25', 'CD45RO', 'CD33', 'CD38', 'CD27', 'CD11c', 'CD45RA', 'CD66b', 'CCR7', 'GranzymeB', 'CD39', 'CD28', 'PD1', 'CD57', 'CD123', 'CD16', 'TIGIT', 'TIM3__CD366_', 'CD56', 'KLRG1', 'Ki67', 'PDL1', 'Tbet', 'ICOS', 'NKG2A', 'CD138', 'CD1c', 'DNAM1']\n",
    "raw_expression = mmrf_1267_embedding[markers].values"
   ]
  },
  {
   "cell_type": "markdown",
   "id": "34fe62e2-ccb5-4ebc-966b-c3aceb6827ed",
   "metadata": {},
   "source": [
    "Next we create a new column for the _complete_ FAUST annotation labels. In comparison to `faustLabels`, the complete FAUST label does not depent on selected phenotypes and is just the concatenation of all marker labels.\n",
    "\n",
    "Think of the _complete FAUST label_ as the cluster name that each data entry belongs to."
   ]
  },
  {
   "cell_type": "code",
   "execution_count": 10,
   "id": "ae24b363-f522-4042-a529-f0ed5c4c8e2b",
   "metadata": {},
   "outputs": [
    {
     "data": {
      "text/html": [
       "<div>\n",
       "<style scoped>\n",
       "    .dataframe tbody tr th:only-of-type {\n",
       "        vertical-align: middle;\n",
       "    }\n",
       "\n",
       "    .dataframe tbody tr th {\n",
       "        vertical-align: top;\n",
       "    }\n",
       "\n",
       "    .dataframe thead th {\n",
       "        text-align: right;\n",
       "    }\n",
       "</style>\n",
       "<table border=\"1\" class=\"dataframe\">\n",
       "  <thead>\n",
       "    <tr style=\"text-align: right;\">\n",
       "      <th></th>\n",
       "      <th>faustLabels</th>\n",
       "      <th>complete_faust_label</th>\n",
       "    </tr>\n",
       "  </thead>\n",
       "  <tbody>\n",
       "    <tr>\n",
       "      <th>0</th>\n",
       "      <td>CD3-HLADR+NKG2D-CD8-CD45+CD4-CD5-CD14-CD19+CD1...</td>\n",
       "      <td>CD3-HLADR+NKG2D-CD8-CD45+CD4-CD5-CD14-CD19+CD1...</td>\n",
       "    </tr>\n",
       "    <tr>\n",
       "      <th>1</th>\n",
       "      <td>0_0_0_0_0</td>\n",
       "      <td>CD3+HLADR-NKG2D+CD8+CD45+CD4-CD5+CD14-CD19-CD1...</td>\n",
       "    </tr>\n",
       "    <tr>\n",
       "      <th>2</th>\n",
       "      <td>0_0_0_0_0</td>\n",
       "      <td>CD3+HLADR-NKG2D+CD8-CD45+CD4-CD5+CD14-CD19-CD1...</td>\n",
       "    </tr>\n",
       "    <tr>\n",
       "      <th>3</th>\n",
       "      <td>CD3-HLADR-NKG2D-CD8-CD45+CD4-CD5-CD14-CD19-CD1...</td>\n",
       "      <td>CD3-HLADR-NKG2D-CD8-CD45+CD4-CD5-CD14-CD19-CD1...</td>\n",
       "    </tr>\n",
       "    <tr>\n",
       "      <th>4</th>\n",
       "      <td>0_0_0_0_0</td>\n",
       "      <td>CD3+HLADR-NKG2D+CD8+CD45+CD4-CD5+CD14-CD19-CD1...</td>\n",
       "    </tr>\n",
       "  </tbody>\n",
       "</table>\n",
       "</div>"
      ],
      "text/plain": [
       "                                         faustLabels  \\\n",
       "0  CD3-HLADR+NKG2D-CD8-CD45+CD4-CD5-CD14-CD19+CD1...   \n",
       "1                                          0_0_0_0_0   \n",
       "2                                          0_0_0_0_0   \n",
       "3  CD3-HLADR-NKG2D-CD8-CD45+CD4-CD5-CD14-CD19-CD1...   \n",
       "4                                          0_0_0_0_0   \n",
       "\n",
       "                                complete_faust_label  \n",
       "0  CD3-HLADR+NKG2D-CD8-CD45+CD4-CD5-CD14-CD19+CD1...  \n",
       "1  CD3+HLADR-NKG2D+CD8+CD45+CD4-CD5+CD14-CD19-CD1...  \n",
       "2  CD3+HLADR-NKG2D+CD8-CD45+CD4-CD5+CD14-CD19-CD1...  \n",
       "3  CD3-HLADR-NKG2D-CD8-CD45+CD4-CD5-CD14-CD19-CD1...  \n",
       "4  CD3+HLADR-NKG2D+CD8+CD45+CD4-CD5+CD14-CD19-CD1...  "
      ]
     },
     "execution_count": 10,
     "metadata": {},
     "output_type": "execute_result"
    }
   ],
   "source": [
    "data['complete_faust_label'] = 'CD3' + data['CD3_faust_annotation'] + 'HLADR' + data['HLADR_faust_annotation'] + 'NKG2D' + data['NKG2D_faust_annotation'] + 'CD8' + data['CD8_faust_annotation'] + 'CD45' + data['CD45_faust_annotation'] + 'CD4' + data['CD4_faust_annotation'] + 'CD5' + data['CD5_faust_annotation'] + 'CD14' + data['CD14_faust_annotation'] + 'CD19' + data['CD19_faust_annotation'] + 'CD127' + data['CD127_faust_annotation'] + 'CD11b' + data['CD11b_faust_annotation'] + 'CD25' + data['CD25_faust_annotation'] + 'CD45RO' + data['CD45RO_faust_annotation'] + 'CD33' + data['CD33_faust_annotation'] + 'CD38' + data['CD38_faust_annotation'] + 'CD27' + data['CD27_faust_annotation'] + 'CD11c' + data['CD11c_faust_annotation'] + 'CD45RA' + data['CD45RA_faust_annotation'] + 'CD66b' + data['CD66b_faust_annotation'] + 'CCR7' + data['CCR7_faust_annotation'] + 'GranzymeB' + data['GranzymeB_faust_annotation'] + 'CD39' + data['CD39_faust_annotation'] + 'CD28' + data['CD28_faust_annotation'] + 'PD1' + data['PD1_faust_annotation'] + 'CD57' + data['CD57_faust_annotation'] + 'CD123' + data['CD123_faust_annotation'] + 'CD16' + data['CD16_faust_annotation'] + 'TIGIT' + data['TIGIT_faust_annotation'] + 'TIM3__CD366_' + data['TIM3__CD366__faust_annotation'] + 'CD56' + data['CD56_faust_annotation'] + 'KLRG1' + data['KLRG1_faust_annotation'] + 'Ki67' + data['Ki67_faust_annotation'] + 'PDL1' + data['PDL1_faust_annotation'] + 'Tbet' + data['Tbet_faust_annotation'] + 'ICOS' + data['ICOS_faust_annotation'] + 'NKG2A' + data['NKG2A_faust_annotation'] + 'CD138' + data['CD138_faust_annotation'] + 'CD1c' + data['CD1c_faust_annotation'] + 'DNAM1' + data['DNAM1_faust_annotation']\n",
    "data[['faustLabels', 'complete_faust_label']].head(5)"
   ]
  },
  {
   "cell_type": "markdown",
   "id": "f0459752-b407-4fe7-ab22-65879bd37c18",
   "metadata": {},
   "source": [
    "Finally, we're extracting the expression levels detected by FAUST.\n",
    "\n",
    "Think of expression levels as simply a discretization of the \"raw\" expression values. E.g., if the protein's expression range is `[0,10]` we could choose to discretize the range into low and high, where low represents values in `[0,5]` and high represents values in `[5,10]`."
   ]
  },
  {
   "cell_type": "code",
   "execution_count": 11,
   "id": "c8c52ea0-a494-419d-8c2e-d124072393f4",
   "metadata": {},
   "outputs": [
    {
     "data": {
      "text/plain": [
       "['-', '+']"
      ]
     },
     "execution_count": 11,
     "metadata": {},
     "output_type": "execute_result"
    }
   ],
   "source": [
    "expression_levels = list(data.CD3_faust_annotation.unique())\n",
    "expression_levels"
   ]
  },
  {
   "cell_type": "markdown",
   "id": "6056adc4-952c-42b8-af2c-8c4d6c6f74d5",
   "metadata": {},
   "source": [
    "## Data Transformation\n",
    "\n",
    "The following steps are the core of creating an annotation-driven embedding.\n",
    "\n",
    "### Winsorize Data\n",
    "\n",
    "We'll start by winsorizing the marker expressions one by one."
   ]
  },
  {
   "cell_type": "code",
   "execution_count": 12,
   "id": "8bb8dd3c-6701-4cd9-9afb-4656f0f29d9c",
   "metadata": {},
   "outputs": [],
   "source": [
    "from scipy.stats.mstats import winsorize\n",
    "\n",
    "winsorized_expression = raw_expression.copy()\n",
    "\n",
    "for i, _ in enumerate(markers):\n",
    "    winsorized_expression[:, i] = winsorize(winsorized_expression[:, i], limits=[0.01, 0.01])"
   ]
  },
  {
   "cell_type": "markdown",
   "id": "18dcc225-b52e-417b-83e7-118c379ce5bc",
   "metadata": {},
   "source": [
    "### Normalize & Scale Data\n",
    "\n",
    "Next, for _complete_ FAUST label (i.e., cluster) we are normalizing the expression values to have zero mean and unit variance (using [`StandardScaler`](https://scikit-learn.org/stable/modules/generated/sklearn.preprocessing.StandardScaler.html)). And then we scale the normalized expression values of each marker (i.e., feature) to [0,1000] or [1000,2000] (using [`MinMaxScaler`](https://scikit-learn.org/stable/modules/generated/sklearn.preprocessing.MinMaxScaler.html)) based on its expression level. In other words, we separate the expression ranges of each features based on the feature's expression level."
   ]
  },
  {
   "cell_type": "code",
   "execution_count": null,
   "id": "2ef54922-8e61-42b4-98d0-7db9736c33fc",
   "metadata": {},
   "outputs": [
    {
     "name": "stdout",
     "output_type": "stream",
     "text": [
      "Transform 0-999 of 24721 clusters... done! (19s)\n",
      "Transform 1000-1999 of 24721 clusters... done! (19s)\n",
      "Transform 2000-2999 of 24721 clusters... "
     ]
    }
   ],
   "source": [
    "from sklearn.preprocessing import MinMaxScaler, StandardScaler\n",
    "from time import time\n",
    "\n",
    "std_scaler = StandardScaler()\n",
    "expression_level_scalar = {\n",
    "    '-': MinMaxScaler(feature_range=(0, 1000)),\n",
    "    '+': MinMaxScaler(feature_range=(1000, 2000)),\n",
    "}\n",
    "expression_level_translation = {\n",
    "    '-': 1000,\n",
    "    '+': 2000,\n",
    "}\n",
    "\n",
    "faust_labels = data.complete_faust_label.unique()\n",
    "num_faust_labels = len(faust_labels)\n",
    "\n",
    "embedding_expression = winsorized_expression.copy()\n",
    "\n",
    "t = 0\n",
    "\n",
    "# 1. Normalize expressions for each phenotype to zero mean and unit variance\n",
    "for i, faust_label in enumerate(faust_labels):\n",
    "    if i % 1000 == 0:\n",
    "        t = time()\n",
    "        print(f'Transform {i}-{i + 999} of {len(faust_labels)} clusters... ', end='')\n",
    "    \n",
    "    # 1a. We get the indices of all data points belonging to the same complete FAUST label\n",
    "    idxs = data.query(f'complete_faust_label == \"{faust_label}\"').index\n",
    "    # 1b. Then we normalize the expression values of all the data points\n",
    "    embedding_expression[idxs] = std_scaler.fit_transform(embedding_expression[idxs])\n",
    "\n",
    "    # 2. Scale marker expressions based on the expression levels\n",
    "    for m, marker in enumerate(markers):\n",
    "        # 2a. Retrieve the expression level of a marker\n",
    "        expression_level = mmrf_1267_embedding.iloc[idxs[0]][f'{marker}_faust_annotation']\n",
    "        # 2b. Scale the normalized expression values of the marker to it's respective new feature range\n",
    "        embedding_expression[idxs, m] = expression_level_scalar[expression_level].fit_transform(\n",
    "            embedding_expression[idxs, m].reshape(-1, 1)\n",
    "        ).flatten()\n",
    "        # 2c. Further scale the normalized expression values respective new feature range\n",
    "        embedding_expression[idxs, m] *= expression_level_translation[expression_level]\n",
    "    \n",
    "    if i % 1000 == 999:\n",
    "        print(f'done! ({round(time() - t)}s)')"
   ]
  },
  {
   "cell_type": "markdown",
   "id": "ee083d2c-736a-411d-8c30-0fc6abc651ee",
   "metadata": {},
   "source": [
    "### UMAP Embedding\n",
    "\n",
    "The last step is to embed the data using UMAP (or any other kind of dimensionality reduction tool)."
   ]
  },
  {
   "cell_type": "code",
   "execution_count": null,
   "id": "ab68b140-8442-45cb-a0e8-3a44ea324c16",
   "metadata": {},
   "outputs": [],
   "source": [
    "from umap import UMAP\n",
    "\n",
    "embedding = UMAP(n_neighbors=15, min_dist=0.2, metric='euclidean').fit_transform(embedding_expression)"
   ]
  },
  {
   "cell_type": "markdown",
   "id": "5d63cec7-5c29-4415-b1c3-544ef021987d",
   "metadata": {},
   "source": [
    "Let's save the embedded data for easy access later on"
   ]
  },
  {
   "cell_type": "code",
   "execution_count": null,
   "id": "30923aaa-ec64-494a-b5f8-e090fcfb3dcf",
   "metadata": {},
   "outputs": [],
   "source": [
    "df_embedding = pd.concat(\n",
    "    [mmrf_1267_embedding.faustLabels, pd.DataFrame(embedding, columns=['umapX', 'umapY'])],\n",
    "    axis=1\n",
    ")\n",
    "df_embedding.faustLabels = df_new_embedding.faustLabels.astype('category')\n",
    "\n",
    "df_embedding.to_parquet('data/MMRF_1267_embedding.pq', compression='gzip')\n",
    "\n",
    "df_embedding.head()"
   ]
  },
  {
   "cell_type": "markdown",
   "id": "54fa8de8-896c-4710-bfec-45375ba8caf8",
   "metadata": {},
   "source": [
    "## Visualize Embedding"
   ]
  },
  {
   "cell_type": "code",
   "execution_count": 24,
   "id": "ece876eb-3354-4299-8ec0-a49cc3c1e9db",
   "metadata": {},
   "outputs": [
    {
     "data": {
      "application/vnd.jupyter.widget-view+json": {
       "model_id": "1f54bf4b5dcc4a95ac41458694a26d06",
       "version_major": 2,
       "version_minor": 0
      },
      "text/plain": [
       "HBox(children=(VBox(children=(Button(button_style='primary', icon='arrows', layout=Layout(width='36px'), style…"
      ]
     },
     "metadata": {},
     "output_type": "display_data"
    }
   ],
   "source": [
    "# Uncomment the line below to load previously embedded data\n",
    "# df_embedding = pd.read_parquet('data/MMRF_1267_embedding.pq')\n",
    "\n",
    "scatter = jscatter.Scatter(data=df_embedding, x='umapX', y='umapY', height=640)\n",
    "scatter.color(by='faustLabels', map=glasbey_dark+glasbey_dark+glasbey_dark)\n",
    "scatter.show()"
   ]
  },
  {
   "cell_type": "code",
   "execution_count": null,
   "id": "c0c67983-c911-4dba-b85e-da937c3a512e",
   "metadata": {},
   "outputs": [],
   "source": []
  }
 ],
 "metadata": {
  "kernelspec": {
   "display_name": "Python 3 (ipykernel)",
   "language": "python",
   "name": "python3"
  },
  "language_info": {
   "codemirror_mode": {
    "name": "ipython",
    "version": 3
   },
   "file_extension": ".py",
   "mimetype": "text/x-python",
   "name": "python",
   "nbconvert_exporter": "python",
   "pygments_lexer": "ipython3",
   "version": "3.9.12"
  }
 },
 "nbformat": 4,
 "nbformat_minor": 5
}
