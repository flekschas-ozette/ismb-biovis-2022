{
 "cells": [
  {
   "cell_type": "markdown",
   "id": "bcab4487-1c91-4ad0-a4fb-c41e632411d6",
   "metadata": {},
   "source": [
    "# FAUST Annotation Embedding\n",
    "\n",
    "In this notebook we are generating an annotation-driven embedding using FAUST annotations of the MMRF study."
   ]
  },
  {
   "cell_type": "code",
   "execution_count": 1,
   "id": "a6e09287-c0ed-48b8-8c87-8d0ecc999988",
   "metadata": {},
   "outputs": [],
   "source": [
    "import jscatter\n",
    "import numpy as np\n",
    "import pandas as pd\n",
    "from cmaps import glasbey_dark, gray"
   ]
  },
  {
   "cell_type": "code",
   "execution_count": 2,
   "id": "3f66a2cb-86aa-4c30-8470-dd7c18fdafc5",
   "metadata": {},
   "outputs": [],
   "source": [
    "name = 'MMRF_1267'"
   ]
  },
  {
   "cell_type": "markdown",
   "id": "4d40aec9-5a59-424d-8896-3dbfab9cd73d",
   "metadata": {},
   "source": [
    "## Data Loading"
   ]
  },
  {
   "cell_type": "code",
   "execution_count": 3,
   "id": "e3150622-d887-4a7b-91ea-ec15b719332c",
   "metadata": {},
   "outputs": [
    {
     "data": {
      "text/html": [
       "<div>\n",
       "<style scoped>\n",
       "    .dataframe tbody tr th:only-of-type {\n",
       "        vertical-align: middle;\n",
       "    }\n",
       "\n",
       "    .dataframe tbody tr th {\n",
       "        vertical-align: top;\n",
       "    }\n",
       "\n",
       "    .dataframe thead th {\n",
       "        text-align: right;\n",
       "    }\n",
       "</style>\n",
       "<table border=\"1\" class=\"dataframe\">\n",
       "  <thead>\n",
       "    <tr style=\"text-align: right;\">\n",
       "      <th></th>\n",
       "      <th>umapX</th>\n",
       "      <th>umapY</th>\n",
       "      <th>sampleOfOrigin</th>\n",
       "      <th>faustLabels</th>\n",
       "      <th>CD3</th>\n",
       "      <th>HLADR</th>\n",
       "      <th>NKG2D</th>\n",
       "      <th>CD8</th>\n",
       "      <th>CD45</th>\n",
       "      <th>CD4</th>\n",
       "      <th>...</th>\n",
       "      <th>CD56_faust_annotation</th>\n",
       "      <th>KLRG1_faust_annotation</th>\n",
       "      <th>Ki67_faust_annotation</th>\n",
       "      <th>PDL1_faust_annotation</th>\n",
       "      <th>Tbet_faust_annotation</th>\n",
       "      <th>ICOS_faust_annotation</th>\n",
       "      <th>NKG2A_faust_annotation</th>\n",
       "      <th>CD138_faust_annotation</th>\n",
       "      <th>CD1c_faust_annotation</th>\n",
       "      <th>DNAM1_faust_annotation</th>\n",
       "    </tr>\n",
       "  </thead>\n",
       "  <tbody>\n",
       "    <tr>\n",
       "      <th>0</th>\n",
       "      <td>1.538682</td>\n",
       "      <td>0.374683</td>\n",
       "      <td>MMRF_1267.fcs</td>\n",
       "      <td>CD3-HLADR+NKG2D-CD8-CD45+CD4-CD5-CD14-CD19+CD1...</td>\n",
       "      <td>1.075370</td>\n",
       "      <td>5.342214</td>\n",
       "      <td>0.000000</td>\n",
       "      <td>0.000268</td>\n",
       "      <td>4.862887</td>\n",
       "      <td>0.824602</td>\n",
       "      <td>...</td>\n",
       "      <td>-</td>\n",
       "      <td>-</td>\n",
       "      <td>-</td>\n",
       "      <td>-</td>\n",
       "      <td>-</td>\n",
       "      <td>-</td>\n",
       "      <td>-</td>\n",
       "      <td>-</td>\n",
       "      <td>+</td>\n",
       "      <td>-</td>\n",
       "    </tr>\n",
       "    <tr>\n",
       "      <th>1</th>\n",
       "      <td>-3.134375</td>\n",
       "      <td>11.461645</td>\n",
       "      <td>MMRF_1267.fcs</td>\n",
       "      <td>0_0_0_0_0</td>\n",
       "      <td>5.824924</td>\n",
       "      <td>0.915367</td>\n",
       "      <td>3.522006</td>\n",
       "      <td>4.770885</td>\n",
       "      <td>4.734933</td>\n",
       "      <td>0.000000</td>\n",
       "      <td>...</td>\n",
       "      <td>-</td>\n",
       "      <td>+</td>\n",
       "      <td>-</td>\n",
       "      <td>-</td>\n",
       "      <td>-</td>\n",
       "      <td>-</td>\n",
       "      <td>-</td>\n",
       "      <td>-</td>\n",
       "      <td>-</td>\n",
       "      <td>+</td>\n",
       "    </tr>\n",
       "    <tr>\n",
       "      <th>2</th>\n",
       "      <td>-0.935311</td>\n",
       "      <td>12.303033</td>\n",
       "      <td>MMRF_1267.fcs</td>\n",
       "      <td>0_0_0_0_0</td>\n",
       "      <td>5.358062</td>\n",
       "      <td>1.360134</td>\n",
       "      <td>1.814536</td>\n",
       "      <td>2.393424</td>\n",
       "      <td>4.235237</td>\n",
       "      <td>0.000000</td>\n",
       "      <td>...</td>\n",
       "      <td>-</td>\n",
       "      <td>-</td>\n",
       "      <td>+</td>\n",
       "      <td>-</td>\n",
       "      <td>+</td>\n",
       "      <td>+</td>\n",
       "      <td>-</td>\n",
       "      <td>-</td>\n",
       "      <td>+</td>\n",
       "      <td>+</td>\n",
       "    </tr>\n",
       "    <tr>\n",
       "      <th>3</th>\n",
       "      <td>2.128425</td>\n",
       "      <td>-5.859528</td>\n",
       "      <td>MMRF_1267.fcs</td>\n",
       "      <td>CD3-HLADR-NKG2D-CD8-CD45+CD4-CD5-CD14-CD19-CD1...</td>\n",
       "      <td>0.000000</td>\n",
       "      <td>2.271876</td>\n",
       "      <td>0.347916</td>\n",
       "      <td>0.000000</td>\n",
       "      <td>1.779969</td>\n",
       "      <td>0.547474</td>\n",
       "      <td>...</td>\n",
       "      <td>-</td>\n",
       "      <td>-</td>\n",
       "      <td>-</td>\n",
       "      <td>-</td>\n",
       "      <td>-</td>\n",
       "      <td>-</td>\n",
       "      <td>-</td>\n",
       "      <td>-</td>\n",
       "      <td>-</td>\n",
       "      <td>-</td>\n",
       "    </tr>\n",
       "    <tr>\n",
       "      <th>4</th>\n",
       "      <td>-2.191941</td>\n",
       "      <td>13.085436</td>\n",
       "      <td>MMRF_1267.fcs</td>\n",
       "      <td>0_0_0_0_0</td>\n",
       "      <td>5.449534</td>\n",
       "      <td>0.000000</td>\n",
       "      <td>2.883831</td>\n",
       "      <td>4.385998</td>\n",
       "      <td>4.845957</td>\n",
       "      <td>0.000000</td>\n",
       "      <td>...</td>\n",
       "      <td>-</td>\n",
       "      <td>+</td>\n",
       "      <td>-</td>\n",
       "      <td>-</td>\n",
       "      <td>-</td>\n",
       "      <td>-</td>\n",
       "      <td>-</td>\n",
       "      <td>+</td>\n",
       "      <td>-</td>\n",
       "      <td>-</td>\n",
       "    </tr>\n",
       "  </tbody>\n",
       "</table>\n",
       "<p>5 rows × 121 columns</p>\n",
       "</div>"
      ],
      "text/plain": [
       "      umapX      umapY sampleOfOrigin  \\\n",
       "0  1.538682   0.374683  MMRF_1267.fcs   \n",
       "1 -3.134375  11.461645  MMRF_1267.fcs   \n",
       "2 -0.935311  12.303033  MMRF_1267.fcs   \n",
       "3  2.128425  -5.859528  MMRF_1267.fcs   \n",
       "4 -2.191941  13.085436  MMRF_1267.fcs   \n",
       "\n",
       "                                         faustLabels       CD3     HLADR  \\\n",
       "0  CD3-HLADR+NKG2D-CD8-CD45+CD4-CD5-CD14-CD19+CD1...  1.075370  5.342214   \n",
       "1                                          0_0_0_0_0  5.824924  0.915367   \n",
       "2                                          0_0_0_0_0  5.358062  1.360134   \n",
       "3  CD3-HLADR-NKG2D-CD8-CD45+CD4-CD5-CD14-CD19-CD1...  0.000000  2.271876   \n",
       "4                                          0_0_0_0_0  5.449534  0.000000   \n",
       "\n",
       "      NKG2D       CD8      CD45       CD4  ...  CD56_faust_annotation  \\\n",
       "0  0.000000  0.000268  4.862887  0.824602  ...                      -   \n",
       "1  3.522006  4.770885  4.734933  0.000000  ...                      -   \n",
       "2  1.814536  2.393424  4.235237  0.000000  ...                      -   \n",
       "3  0.347916  0.000000  1.779969  0.547474  ...                      -   \n",
       "4  2.883831  4.385998  4.845957  0.000000  ...                      -   \n",
       "\n",
       "   KLRG1_faust_annotation  Ki67_faust_annotation  PDL1_faust_annotation  \\\n",
       "0                       -                      -                      -   \n",
       "1                       +                      -                      -   \n",
       "2                       -                      +                      -   \n",
       "3                       -                      -                      -   \n",
       "4                       +                      -                      -   \n",
       "\n",
       "   Tbet_faust_annotation  ICOS_faust_annotation  NKG2A_faust_annotation  \\\n",
       "0                      -                      -                       -   \n",
       "1                      -                      -                       -   \n",
       "2                      +                      +                       -   \n",
       "3                      -                      -                       -   \n",
       "4                      -                      -                       -   \n",
       "\n",
       "   CD138_faust_annotation  CD1c_faust_annotation  DNAM1_faust_annotation  \n",
       "0                       -                      +                       -  \n",
       "1                       -                      -                       +  \n",
       "2                       -                      +                       +  \n",
       "3                       -                      -                       -  \n",
       "4                       +                      -                       -  \n",
       "\n",
       "[5 rows x 121 columns]"
      ]
     },
     "execution_count": 3,
     "metadata": {},
     "output_type": "execute_result"
    }
   ],
   "source": [
    "data = pd.read_csv(f'data/{name}_output.csv')\n",
    "data.head(5)"
   ]
  },
  {
   "cell_type": "markdown",
   "id": "94b94814-5b12-42e9-93ed-9e2605bdd3ff",
   "metadata": {},
   "source": [
    "## Data Preparation\n",
    "\n",
    "We'll start by extracting all markers"
   ]
  },
  {
   "cell_type": "code",
   "execution_count": 4,
   "id": "8e8d8cdb-3229-4d40-91be-e7da0a4ade7a",
   "metadata": {},
   "outputs": [],
   "source": [
    "suffix = '_faust_annotation'\n",
    "all_markers = [c[:-len(suffix)] for c in list(data.columns) if c.endswith(suffix)]"
   ]
  },
  {
   "cell_type": "code",
   "execution_count": 5,
   "id": "8aa7d34f-30b4-4716-b0fa-f67f32b26f76",
   "metadata": {},
   "outputs": [],
   "source": [
    "markers = all_markers[:20]"
   ]
  },
  {
   "cell_type": "markdown",
   "id": "2fd96ef6-cb68-46aa-8fe3-5af7fd5cc1a4",
   "metadata": {},
   "source": [
    "Then, we extract the \"raw\" marker expression values"
   ]
  },
  {
   "cell_type": "code",
   "execution_count": 6,
   "id": "a1192a01-0688-4a79-ae47-bd7c75a75b91",
   "metadata": {},
   "outputs": [],
   "source": [
    "raw_expression = data[markers].values"
   ]
  },
  {
   "cell_type": "markdown",
   "id": "34fe62e2-ccb5-4ebc-966b-c3aceb6827ed",
   "metadata": {},
   "source": [
    "Next we create a new column for the _complete_ FAUST annotation labels. In comparison to `faustLabels`, the complete FAUST label does not depent on selected phenotypes and is just the concatenation of all marker labels.\n",
    "\n",
    "Think of the _complete FAUST label_ as the cluster name that each data entry belongs to."
   ]
  },
  {
   "cell_type": "code",
   "execution_count": 7,
   "id": "ae24b363-f522-4042-a529-f0ed5c4c8e2b",
   "metadata": {},
   "outputs": [
    {
     "data": {
      "text/html": [
       "<div>\n",
       "<style scoped>\n",
       "    .dataframe tbody tr th:only-of-type {\n",
       "        vertical-align: middle;\n",
       "    }\n",
       "\n",
       "    .dataframe tbody tr th {\n",
       "        vertical-align: top;\n",
       "    }\n",
       "\n",
       "    .dataframe thead th {\n",
       "        text-align: right;\n",
       "    }\n",
       "</style>\n",
       "<table border=\"1\" class=\"dataframe\">\n",
       "  <thead>\n",
       "    <tr style=\"text-align: right;\">\n",
       "      <th></th>\n",
       "      <th>faustLabels</th>\n",
       "      <th>complete_faust_label</th>\n",
       "    </tr>\n",
       "  </thead>\n",
       "  <tbody>\n",
       "    <tr>\n",
       "      <th>0</th>\n",
       "      <td>CD3-HLADR+NKG2D-CD8-CD45+CD4-CD5-CD14-CD19+CD1...</td>\n",
       "      <td>CD3-HLADR+NKG2D-CD8-CD45+CD4-CD5-CD14-CD19+CD1...</td>\n",
       "    </tr>\n",
       "    <tr>\n",
       "      <th>1</th>\n",
       "      <td>0_0_0_0_0</td>\n",
       "      <td>CD3+HLADR-NKG2D+CD8+CD45+CD4-CD5+CD14-CD19-CD1...</td>\n",
       "    </tr>\n",
       "    <tr>\n",
       "      <th>2</th>\n",
       "      <td>0_0_0_0_0</td>\n",
       "      <td>CD3+HLADR-NKG2D+CD8-CD45+CD4-CD5+CD14-CD19-CD1...</td>\n",
       "    </tr>\n",
       "    <tr>\n",
       "      <th>3</th>\n",
       "      <td>CD3-HLADR-NKG2D-CD8-CD45+CD4-CD5-CD14-CD19-CD1...</td>\n",
       "      <td>CD3-HLADR-NKG2D-CD8-CD45+CD4-CD5-CD14-CD19-CD1...</td>\n",
       "    </tr>\n",
       "    <tr>\n",
       "      <th>4</th>\n",
       "      <td>0_0_0_0_0</td>\n",
       "      <td>CD3+HLADR-NKG2D+CD8+CD45+CD4-CD5+CD14-CD19-CD1...</td>\n",
       "    </tr>\n",
       "  </tbody>\n",
       "</table>\n",
       "</div>"
      ],
      "text/plain": [
       "                                         faustLabels  \\\n",
       "0  CD3-HLADR+NKG2D-CD8-CD45+CD4-CD5-CD14-CD19+CD1...   \n",
       "1                                          0_0_0_0_0   \n",
       "2                                          0_0_0_0_0   \n",
       "3  CD3-HLADR-NKG2D-CD8-CD45+CD4-CD5-CD14-CD19-CD1...   \n",
       "4                                          0_0_0_0_0   \n",
       "\n",
       "                                complete_faust_label  \n",
       "0  CD3-HLADR+NKG2D-CD8-CD45+CD4-CD5-CD14-CD19+CD1...  \n",
       "1  CD3+HLADR-NKG2D+CD8+CD45+CD4-CD5+CD14-CD19-CD1...  \n",
       "2  CD3+HLADR-NKG2D+CD8-CD45+CD4-CD5+CD14-CD19-CD1...  \n",
       "3  CD3-HLADR-NKG2D-CD8-CD45+CD4-CD5-CD14-CD19-CD1...  \n",
       "4  CD3+HLADR-NKG2D+CD8+CD45+CD4-CD5+CD14-CD19-CD1...  "
      ]
     },
     "execution_count": 7,
     "metadata": {},
     "output_type": "execute_result"
    }
   ],
   "source": [
    "data['complete_faust_label'] = ''\n",
    "for marker in markers:\n",
    "    data['complete_faust_label'] += marker + data[f'{marker}_faust_annotation']\n",
    "    \n",
    "data[['faustLabels', 'complete_faust_label']].head(5)"
   ]
  },
  {
   "cell_type": "markdown",
   "id": "f0459752-b407-4fe7-ab22-65879bd37c18",
   "metadata": {},
   "source": [
    "Finally, we're extracting the expression levels detected by FAUST.\n",
    "\n",
    "Think of expression levels as simply a discretization of the \"raw\" expression values. E.g., if the protein's expression range is `[0,10]` we could choose to discretize the range into low and high, where low represents values in `[0,5]` and high represents values in `[5,10]`."
   ]
  },
  {
   "cell_type": "code",
   "execution_count": 8,
   "id": "c8c52ea0-a494-419d-8c2e-d124072393f4",
   "metadata": {},
   "outputs": [
    {
     "data": {
      "text/plain": [
       "['-', '+']"
      ]
     },
     "execution_count": 8,
     "metadata": {},
     "output_type": "execute_result"
    }
   ],
   "source": [
    "expression_levels = list(data.CD3_faust_annotation.unique())\n",
    "expression_levels"
   ]
  },
  {
   "cell_type": "markdown",
   "id": "18dcc225-b52e-417b-83e7-118c379ce5bc",
   "metadata": {},
   "source": [
    "## Data Transformation\n",
    "\n",
    "The following steps are the core of creating an annotation-driven embedding.\n",
    "\n",
    "For each cell type (i.e., cluster) and marker (i.e., feature) we winsozrize and standardize the expression values to have zero mean and unit variance. And then we translate the expression values of each marker according to the marker's expression level (positive or negative) to separate their expression ranges."
   ]
  },
  {
   "cell_type": "code",
   "execution_count": 9,
   "id": "2011e078-5fe0-43e0-8587-7a884d586405",
   "metadata": {},
   "outputs": [
    {
     "name": "stdout",
     "output_type": "stream",
     "text": [
      "Transform 0-999 of 2626 clusters... done! (7s)\n",
      "Transform 1000-1999 of 2626 clusters... done! (6s)\n",
      "Transform 2000-2999 of 2626 clusters... "
     ]
    }
   ],
   "source": [
    "from scipy.stats.mstats import winsorize\n",
    "from time import time\n",
    "\n",
    "expression_level_translation = { '-': 1000, '+': 2000 }\n",
    "\n",
    "faust_labels = data.complete_faust_label.unique()\n",
    "\n",
    "marker_annotation_cols = [f'{m}_faust_annotation' for m in markers]\n",
    "\n",
    "embedding_expression = raw_expression.copy()\n",
    "\n",
    "t = 0\n",
    "\n",
    "# For each cluster (i.e., cell phenotype defined by the FAUST label)\n",
    "for i, faust_label in enumerate(faust_labels):\n",
    "    if i % 1000 == 0:\n",
    "        t = time()\n",
    "        print(f'Transform {i}-{i + 999} of {len(faust_labels)} clusters... ', end='')\n",
    "        \n",
    "    # First, we get the indices of all data points belonging to the cluster (i.e., cell phenotype)\n",
    "    idxs = data.query(f'complete_faust_label == \"{faust_label}\"').index\n",
    "    \n",
    "    # 1. We winsorize the expression values to [0.01, 99.9]\n",
    "    embedding_expression[idxs] = winsorize(\n",
    "        embedding_expression[idxs],\n",
    "        limits=[0.01, 0.01],\n",
    "        axis=0,\n",
    "    )\n",
    "    \n",
    "    # 2. Then we standardize the expression values\n",
    "    # to have zero mean and unit standard deviation\n",
    "    mean = embedding_expression[idxs].mean(axis=0)\n",
    "    sd = np.nan_to_num(embedding_expression[idxs].std(axis=0))\n",
    "    sd[sd == 0] = 1\n",
    "    \n",
    "    embedding_expression[idxs] -= mean\n",
    "    embedding_expression[idxs] /= sd\n",
    "\n",
    "    # 3. Next, we translate the expressions values based on their expression levels\n",
    "    embedding_expression[idxs] += data.iloc[idxs[0]][marker_annotation_cols].map(\n",
    "        expression_level_translation\n",
    "    ).values\n",
    "    \n",
    "    if i % 1000 == 999:\n",
    "        print(f'done! ({round(time() - t)}s)')"
   ]
  },
  {
   "cell_type": "markdown",
   "id": "ee083d2c-736a-411d-8c30-0fc6abc651ee",
   "metadata": {},
   "source": [
    "### UMAP Embedding\n",
    "\n",
    "The last step is to embed the data using UMAP (or any other kind of dimensionality reduction tool)."
   ]
  },
  {
   "cell_type": "code",
   "execution_count": 10,
   "id": "ab68b140-8442-45cb-a0e8-3a44ea324c16",
   "metadata": {},
   "outputs": [
    {
     "name": "stderr",
     "output_type": "stream",
     "text": [
      "/Users/fritz/miniconda3/envs/ozette-biovis-ismb-2022/lib/python3.9/site-packages/sklearn/manifold/_spectral_embedding.py:259: UserWarning: Graph is not fully connected, spectral embedding may not work as expected.\n",
      "  warnings.warn(\n"
     ]
    }
   ],
   "source": [
    "from umap import UMAP\n",
    "\n",
    "embedding = UMAP().fit_transform(embedding_expression)"
   ]
  },
  {
   "cell_type": "markdown",
   "id": "5d63cec7-5c29-4415-b1c3-544ef021987d",
   "metadata": {},
   "source": [
    "Let's save the embedded data for easy access later on"
   ]
  },
  {
   "cell_type": "code",
   "execution_count": 11,
   "id": "30923aaa-ec64-494a-b5f8-e090fcfb3dcf",
   "metadata": {},
   "outputs": [
    {
     "data": {
      "text/html": [
       "<div>\n",
       "<style scoped>\n",
       "    .dataframe tbody tr th:only-of-type {\n",
       "        vertical-align: middle;\n",
       "    }\n",
       "\n",
       "    .dataframe tbody tr th {\n",
       "        vertical-align: top;\n",
       "    }\n",
       "\n",
       "    .dataframe thead th {\n",
       "        text-align: right;\n",
       "    }\n",
       "</style>\n",
       "<table border=\"1\" class=\"dataframe\">\n",
       "  <thead>\n",
       "    <tr style=\"text-align: right;\">\n",
       "      <th></th>\n",
       "      <th>cellType</th>\n",
       "      <th>umapX</th>\n",
       "      <th>umapY</th>\n",
       "    </tr>\n",
       "  </thead>\n",
       "  <tbody>\n",
       "    <tr>\n",
       "      <th>0</th>\n",
       "      <td>CD3-HLADR+NKG2D-CD8-CD45+CD4-CD5-CD14-CD19+CD1...</td>\n",
       "      <td>4.584349</td>\n",
       "      <td>11.086934</td>\n",
       "    </tr>\n",
       "    <tr>\n",
       "      <th>1</th>\n",
       "      <td>0_0_0_0_0</td>\n",
       "      <td>2.101406</td>\n",
       "      <td>-3.889677</td>\n",
       "    </tr>\n",
       "    <tr>\n",
       "      <th>2</th>\n",
       "      <td>0_0_0_0_0</td>\n",
       "      <td>1.886085</td>\n",
       "      <td>1.678656</td>\n",
       "    </tr>\n",
       "    <tr>\n",
       "      <th>3</th>\n",
       "      <td>CD3-HLADR-NKG2D-CD8-CD45+CD4-CD5-CD14-CD19-CD1...</td>\n",
       "      <td>8.504686</td>\n",
       "      <td>4.114351</td>\n",
       "    </tr>\n",
       "    <tr>\n",
       "      <th>4</th>\n",
       "      <td>0_0_0_0_0</td>\n",
       "      <td>6.513772</td>\n",
       "      <td>11.100647</td>\n",
       "    </tr>\n",
       "  </tbody>\n",
       "</table>\n",
       "</div>"
      ],
      "text/plain": [
       "                                            cellType     umapX      umapY\n",
       "0  CD3-HLADR+NKG2D-CD8-CD45+CD4-CD5-CD14-CD19+CD1...  4.584349  11.086934\n",
       "1                                          0_0_0_0_0  2.101406  -3.889677\n",
       "2                                          0_0_0_0_0  1.886085   1.678656\n",
       "3  CD3-HLADR-NKG2D-CD8-CD45+CD4-CD5-CD14-CD19-CD1...  8.504686   4.114351\n",
       "4                                          0_0_0_0_0  6.513772  11.100647"
      ]
     },
     "execution_count": 11,
     "metadata": {},
     "output_type": "execute_result"
    }
   ],
   "source": [
    "df_embedding = pd.concat(\n",
    "    [\n",
    "        pd.DataFrame(data.complete_faust_label.values, columns=['cellType']),\n",
    "        pd.DataFrame(embedding, columns=['umapX', 'umapY'])\n",
    "    ],\n",
    "    axis=1\n",
    ")\n",
    "df_embedding.cellType = df_embedding.cellType.where(\n",
    "    data.faustLabels != '0_0_0_0_0',\n",
    "    '0_0_0_0_0'\n",
    ").astype('category')\n",
    "\n",
    "df_embedding.to_parquet(f'data/{name}_embedding-new-v4.pq', compression='gzip')\n",
    "\n",
    "df_embedding.head()"
   ]
  },
  {
   "cell_type": "markdown",
   "id": "54fa8de8-896c-4710-bfec-45375ba8caf8",
   "metadata": {},
   "source": [
    "## Visualize Embedding"
   ]
  },
  {
   "cell_type": "code",
   "execution_count": 17,
   "id": "ece876eb-3354-4299-8ec0-a49cc3c1e9db",
   "metadata": {},
   "outputs": [
    {
     "data": {
      "application/vnd.jupyter.widget-view+json": {
       "model_id": "99e2a87dfdef43e2a54d3da41cf5704e",
       "version_major": 2,
       "version_minor": 0
      },
      "text/plain": [
       "HBox(children=(VBox(children=(Button(button_style='primary', icon='arrows', layout=Layout(width='36px'), style…"
      ]
     },
     "metadata": {},
     "output_type": "display_data"
    },
    {
     "data": {
      "application/vnd.jupyter.widget-view+json": {
       "model_id": "0025fb352c414568ada7867d7b04566c",
       "version_major": 2,
       "version_minor": 0
      },
      "text/plain": [
       "HBox(children=(HTML(value='Point size', layout=Layout(width='128px')), IntSlider(value=3, max=10, min=1)))"
      ]
     },
     "metadata": {},
     "output_type": "display_data"
    },
    {
     "data": {
      "application/vnd.jupyter.widget-view+json": {
       "model_id": "8ca30c09df534160be0486a01a48ff4d",
       "version_major": 2,
       "version_minor": 0
      },
      "text/plain": [
       "HBox(children=(HTML(value='Point opacity', layout=Layout(width='128px')), FloatSlider(value=0.66, max=1.0, ste…"
      ]
     },
     "metadata": {},
     "output_type": "display_data"
    }
   ],
   "source": [
    "from IPython.display import display\n",
    "\n",
    "# Uncomment the line below to load previously embedded data\n",
    "# df_embedding = pd.read_parquet(f'data/{name}_embedding.pq')\n",
    "\n",
    "scatter = jscatter.Scatter(\n",
    "    data=df_embedding.sort_values(by=['cellType']),\n",
    "    x='umapX',\n",
    "    y='umapY',\n",
    "    opacity=0.66,\n",
    "    color_by='cellType',\n",
    "    color_map=[gray]+glasbey_dark+glasbey_dark+glasbey_dark,\n",
    "    height=640,\n",
    ")\n",
    "\n",
    "display(\n",
    "    scatter.show(),\n",
    "    scatter.widget.size_widget,\n",
    "    scatter.widget.opacity_widget,\n",
    ")"
   ]
  },
  {
   "cell_type": "code",
   "execution_count": null,
   "id": "09e9e93d-dbab-4e2d-a2b4-00c388f53521",
   "metadata": {},
   "outputs": [],
   "source": []
  }
 ],
 "metadata": {
  "kernelspec": {
   "display_name": "Python 3 (ipykernel)",
   "language": "python",
   "name": "python3"
  },
  "language_info": {
   "codemirror_mode": {
    "name": "ipython",
    "version": 3
   },
   "file_extension": ".py",
   "mimetype": "text/x-python",
   "name": "python",
   "nbconvert_exporter": "python",
   "pygments_lexer": "ipython3",
   "version": "3.9.12"
  }
 },
 "nbformat": 4,
 "nbformat_minor": 5
}
