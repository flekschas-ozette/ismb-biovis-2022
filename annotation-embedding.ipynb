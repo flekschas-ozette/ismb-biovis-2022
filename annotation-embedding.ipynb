{
 "cells": [
  {
   "cell_type": "markdown",
   "id": "bcab4487-1c91-4ad0-a4fb-c41e632411d6",
   "metadata": {},
   "source": [
    "# Annotation Embedding\n",
    "\n",
    "In this notebook we are explaining how to generate an annotation embedding using expression level annotations obtained using our [FAUST method](https://github.com/RGLab/FAUST) from data of [Mair et al., 2022, Nature](https://www.nature.com/articles/s41586-022-04718-w)."
   ]
  },
  {
   "cell_type": "code",
   "execution_count": 19,
   "id": "a6e09287-c0ed-48b8-8c87-8d0ecc999988",
   "metadata": {},
   "outputs": [],
   "source": [
    "import jscatter\n",
    "import numpy as np\n",
    "import pandas as pd\n",
    "from glob import glob\n",
    "from colors import glasbey_dark, gray_light"
   ]
  },
  {
   "cell_type": "code",
   "execution_count": 6,
   "id": "3f66a2cb-86aa-4c30-8470-dd7c18fdafc5",
   "metadata": {},
   "outputs": [],
   "source": [
    "dataset_name = 'TUMOR_006'"
   ]
  },
  {
   "cell_type": "markdown",
   "id": "4d40aec9-5a59-424d-8896-3dbfab9cd73d",
   "metadata": {},
   "source": [
    "## Data Loading"
   ]
  },
  {
   "cell_type": "code",
   "execution_count": 7,
   "id": "e3150622-d887-4a7b-91ea-ec15b719332c",
   "metadata": {},
   "outputs": [
    {
     "data": {
      "text/html": [
       "<div>\n",
       "<style scoped>\n",
       "    .dataframe tbody tr th:only-of-type {\n",
       "        vertical-align: middle;\n",
       "    }\n",
       "\n",
       "    .dataframe tbody tr th {\n",
       "        vertical-align: top;\n",
       "    }\n",
       "\n",
       "    .dataframe thead th {\n",
       "        text-align: right;\n",
       "    }\n",
       "</style>\n",
       "<table border=\"1\" class=\"dataframe\">\n",
       "  <thead>\n",
       "    <tr style=\"text-align: right;\">\n",
       "      <th></th>\n",
       "      <th>umapX</th>\n",
       "      <th>umapY</th>\n",
       "      <th>sampleOfOrigin</th>\n",
       "      <th>faustLabels</th>\n",
       "      <th>CD4</th>\n",
       "      <th>CD8</th>\n",
       "      <th>CD3</th>\n",
       "      <th>CD45RA</th>\n",
       "      <th>CD27</th>\n",
       "      <th>CD19</th>\n",
       "      <th>...</th>\n",
       "      <th>CD69_faust_annotation</th>\n",
       "      <th>PD1_faust_annotation</th>\n",
       "      <th>HLADR_faust_annotation</th>\n",
       "      <th>GranzymeB_faust_annotation</th>\n",
       "      <th>CD25_faust_annotation</th>\n",
       "      <th>ICOS_faust_annotation</th>\n",
       "      <th>TCRgd_faust_annotation</th>\n",
       "      <th>CD38_faust_annotation</th>\n",
       "      <th>CD127_faust_annotation</th>\n",
       "      <th>Tim3_faust_annotation</th>\n",
       "    </tr>\n",
       "  </thead>\n",
       "  <tbody>\n",
       "    <tr>\n",
       "      <th>0</th>\n",
       "      <td>-12.197959</td>\n",
       "      <td>10.958616</td>\n",
       "      <td>TUMOR_006_samples_FM92_Tumor_006_033_CD45_live...</td>\n",
       "      <td>CD4+CD8-CD3+CD45RA-CD27+CD19-CD103-CD28+CD69-P...</td>\n",
       "      <td>134.479553</td>\n",
       "      <td>64.721008</td>\n",
       "      <td>160.687744</td>\n",
       "      <td>59.179371</td>\n",
       "      <td>123.690056</td>\n",
       "      <td>65.036240</td>\n",
       "      <td>...</td>\n",
       "      <td>-</td>\n",
       "      <td>+</td>\n",
       "      <td>-</td>\n",
       "      <td>-</td>\n",
       "      <td>-</td>\n",
       "      <td>-</td>\n",
       "      <td>-</td>\n",
       "      <td>-</td>\n",
       "      <td>+</td>\n",
       "      <td>-</td>\n",
       "    </tr>\n",
       "    <tr>\n",
       "      <th>1</th>\n",
       "      <td>-0.338861</td>\n",
       "      <td>-4.746182</td>\n",
       "      <td>TUMOR_006_samples_FM92_Tumor_006_033_CD45_live...</td>\n",
       "      <td>CD4-CD8+CD3+CD45RA-CD27+CD19-CD103-CD28+CD69-P...</td>\n",
       "      <td>27.485004</td>\n",
       "      <td>168.428329</td>\n",
       "      <td>157.620132</td>\n",
       "      <td>60.775932</td>\n",
       "      <td>86.709320</td>\n",
       "      <td>57.068966</td>\n",
       "      <td>...</td>\n",
       "      <td>-</td>\n",
       "      <td>-</td>\n",
       "      <td>-</td>\n",
       "      <td>+</td>\n",
       "      <td>-</td>\n",
       "      <td>-</td>\n",
       "      <td>-</td>\n",
       "      <td>-</td>\n",
       "      <td>-</td>\n",
       "      <td>-</td>\n",
       "    </tr>\n",
       "    <tr>\n",
       "      <th>2</th>\n",
       "      <td>-6.862342</td>\n",
       "      <td>-14.070710</td>\n",
       "      <td>TUMOR_006_samples_FM92_Tumor_006_033_CD45_live...</td>\n",
       "      <td>CD4-CD8+CD3+CD45RA-CD27+CD19-CD103+CD28+CD69+P...</td>\n",
       "      <td>23.172733</td>\n",
       "      <td>176.405228</td>\n",
       "      <td>158.386978</td>\n",
       "      <td>60.367004</td>\n",
       "      <td>144.181641</td>\n",
       "      <td>50.614777</td>\n",
       "      <td>...</td>\n",
       "      <td>+</td>\n",
       "      <td>+</td>\n",
       "      <td>-</td>\n",
       "      <td>-</td>\n",
       "      <td>-</td>\n",
       "      <td>-</td>\n",
       "      <td>-</td>\n",
       "      <td>+</td>\n",
       "      <td>-</td>\n",
       "      <td>-</td>\n",
       "    </tr>\n",
       "    <tr>\n",
       "      <th>3</th>\n",
       "      <td>-9.874931</td>\n",
       "      <td>0.273441</td>\n",
       "      <td>TUMOR_006_samples_FM92_Tumor_006_033_CD45_live...</td>\n",
       "      <td>0_0_0_0_0</td>\n",
       "      <td>116.681480</td>\n",
       "      <td>67.511528</td>\n",
       "      <td>155.634628</td>\n",
       "      <td>56.426315</td>\n",
       "      <td>149.266510</td>\n",
       "      <td>62.506500</td>\n",
       "      <td>...</td>\n",
       "      <td>-</td>\n",
       "      <td>+</td>\n",
       "      <td>-</td>\n",
       "      <td>-</td>\n",
       "      <td>-</td>\n",
       "      <td>+</td>\n",
       "      <td>-</td>\n",
       "      <td>-</td>\n",
       "      <td>-</td>\n",
       "      <td>+</td>\n",
       "    </tr>\n",
       "    <tr>\n",
       "      <th>4</th>\n",
       "      <td>7.248039</td>\n",
       "      <td>4.996465</td>\n",
       "      <td>TUMOR_006_samples_FM92_Tumor_006_033_CD45_live...</td>\n",
       "      <td>CD4-CD8-CD3-CD45RA+CD27-CD19+CD103-CD28-CD69-P...</td>\n",
       "      <td>28.431238</td>\n",
       "      <td>62.975693</td>\n",
       "      <td>39.712109</td>\n",
       "      <td>176.277328</td>\n",
       "      <td>46.269531</td>\n",
       "      <td>172.011490</td>\n",
       "      <td>...</td>\n",
       "      <td>-</td>\n",
       "      <td>-</td>\n",
       "      <td>-</td>\n",
       "      <td>-</td>\n",
       "      <td>-</td>\n",
       "      <td>-</td>\n",
       "      <td>-</td>\n",
       "      <td>-</td>\n",
       "      <td>-</td>\n",
       "      <td>-</td>\n",
       "    </tr>\n",
       "  </tbody>\n",
       "</table>\n",
       "<p>5 rows × 58 columns</p>\n",
       "</div>"
      ],
      "text/plain": [
       "       umapX      umapY                                     sampleOfOrigin  \\\n",
       "0 -12.197959  10.958616  TUMOR_006_samples_FM92_Tumor_006_033_CD45_live...   \n",
       "1  -0.338861  -4.746182  TUMOR_006_samples_FM92_Tumor_006_033_CD45_live...   \n",
       "2  -6.862342 -14.070710  TUMOR_006_samples_FM92_Tumor_006_033_CD45_live...   \n",
       "3  -9.874931   0.273441  TUMOR_006_samples_FM92_Tumor_006_033_CD45_live...   \n",
       "4   7.248039   4.996465  TUMOR_006_samples_FM92_Tumor_006_033_CD45_live...   \n",
       "\n",
       "                                         faustLabels         CD4         CD8  \\\n",
       "0  CD4+CD8-CD3+CD45RA-CD27+CD19-CD103-CD28+CD69-P...  134.479553   64.721008   \n",
       "1  CD4-CD8+CD3+CD45RA-CD27+CD19-CD103-CD28+CD69-P...   27.485004  168.428329   \n",
       "2  CD4-CD8+CD3+CD45RA-CD27+CD19-CD103+CD28+CD69+P...   23.172733  176.405228   \n",
       "3                                          0_0_0_0_0  116.681480   67.511528   \n",
       "4  CD4-CD8-CD3-CD45RA+CD27-CD19+CD103-CD28-CD69-P...   28.431238   62.975693   \n",
       "\n",
       "          CD3      CD45RA        CD27        CD19  ...  CD69_faust_annotation  \\\n",
       "0  160.687744   59.179371  123.690056   65.036240  ...                      -   \n",
       "1  157.620132   60.775932   86.709320   57.068966  ...                      -   \n",
       "2  158.386978   60.367004  144.181641   50.614777  ...                      +   \n",
       "3  155.634628   56.426315  149.266510   62.506500  ...                      -   \n",
       "4   39.712109  176.277328   46.269531  172.011490  ...                      -   \n",
       "\n",
       "   PD1_faust_annotation  HLADR_faust_annotation  GranzymeB_faust_annotation  \\\n",
       "0                     +                       -                           -   \n",
       "1                     -                       -                           +   \n",
       "2                     +                       -                           -   \n",
       "3                     +                       -                           -   \n",
       "4                     -                       -                           -   \n",
       "\n",
       "   CD25_faust_annotation  ICOS_faust_annotation  TCRgd_faust_annotation  \\\n",
       "0                      -                      -                       -   \n",
       "1                      -                      -                       -   \n",
       "2                      -                      -                       -   \n",
       "3                      -                      +                       -   \n",
       "4                      -                      -                       -   \n",
       "\n",
       "   CD38_faust_annotation  CD127_faust_annotation  Tim3_faust_annotation  \n",
       "0                      -                       +                      -  \n",
       "1                      -                       -                      -  \n",
       "2                      +                       -                      -  \n",
       "3                      -                       -                      +  \n",
       "4                      -                       -                      -  \n",
       "\n",
       "[5 rows x 58 columns]"
      ]
     },
     "execution_count": 7,
     "metadata": {},
     "output_type": "execute_result"
    }
   ],
   "source": [
    "dataset = glob(f'data/mair-2022/{dataset_name}*')[0]\n",
    "df = pd.read_parquet(dataset)\n",
    "df.head(5)"
   ]
  },
  {
   "cell_type": "markdown",
   "id": "94b94814-5b12-42e9-93ed-9e2605bdd3ff",
   "metadata": {},
   "source": [
    "## Data Preparation\n",
    "\n",
    "We'll start by extracting all markers"
   ]
  },
  {
   "cell_type": "code",
   "execution_count": 10,
   "id": "8e8d8cdb-3229-4d40-91be-e7da0a4ade7a",
   "metadata": {},
   "outputs": [],
   "source": [
    "suffix = '_faust_annotation'\n",
    "markers = [c[:-len(suffix)] for c in list(df.columns) if c.endswith(suffix)]"
   ]
  },
  {
   "cell_type": "markdown",
   "id": "2fd96ef6-cb68-46aa-8fe3-5af7fd5cc1a4",
   "metadata": {},
   "source": [
    "Then, we extract the \"raw\" marker expression values"
   ]
  },
  {
   "cell_type": "code",
   "execution_count": 11,
   "id": "a1192a01-0688-4a79-ae47-bd7c75a75b91",
   "metadata": {},
   "outputs": [],
   "source": [
    "raw_expression = df[markers].values"
   ]
  },
  {
   "cell_type": "markdown",
   "id": "34fe62e2-ccb5-4ebc-966b-c3aceb6827ed",
   "metadata": {},
   "source": [
    "Next we create a new column for the _complete_ FAUST annotation labels. In comparison to `faustLabels`, the complete FAUST label does not depent on selected phenotypes and is just the concatenation of all marker labels.\n",
    "\n",
    "Think of the _complete FAUST label_ as the cluster name that each data entry belongs to."
   ]
  },
  {
   "cell_type": "code",
   "execution_count": 12,
   "id": "ae24b363-f522-4042-a529-f0ed5c4c8e2b",
   "metadata": {},
   "outputs": [
    {
     "data": {
      "text/html": [
       "<div>\n",
       "<style scoped>\n",
       "    .dataframe tbody tr th:only-of-type {\n",
       "        vertical-align: middle;\n",
       "    }\n",
       "\n",
       "    .dataframe tbody tr th {\n",
       "        vertical-align: top;\n",
       "    }\n",
       "\n",
       "    .dataframe thead th {\n",
       "        text-align: right;\n",
       "    }\n",
       "</style>\n",
       "<table border=\"1\" class=\"dataframe\">\n",
       "  <thead>\n",
       "    <tr style=\"text-align: right;\">\n",
       "      <th></th>\n",
       "      <th>faustLabels</th>\n",
       "      <th>complete_faust_label</th>\n",
       "    </tr>\n",
       "  </thead>\n",
       "  <tbody>\n",
       "    <tr>\n",
       "      <th>0</th>\n",
       "      <td>CD4+CD8-CD3+CD45RA-CD27+CD19-CD103-CD28+CD69-P...</td>\n",
       "      <td>CD4+CD8-CD3+CD45RA-CD27+CD19-CD103-CD28+CD69-P...</td>\n",
       "    </tr>\n",
       "    <tr>\n",
       "      <th>1</th>\n",
       "      <td>CD4-CD8+CD3+CD45RA-CD27+CD19-CD103-CD28+CD69-P...</td>\n",
       "      <td>CD4-CD8+CD3+CD45RA-CD27+CD19-CD103-CD28+CD69-P...</td>\n",
       "    </tr>\n",
       "    <tr>\n",
       "      <th>2</th>\n",
       "      <td>CD4-CD8+CD3+CD45RA-CD27+CD19-CD103+CD28+CD69+P...</td>\n",
       "      <td>CD4-CD8+CD3+CD45RA-CD27+CD19-CD103+CD28+CD69+P...</td>\n",
       "    </tr>\n",
       "    <tr>\n",
       "      <th>3</th>\n",
       "      <td>0_0_0_0_0</td>\n",
       "      <td>CD4+CD8-CD3+CD45RA-CD27+CD19-CD103-CD28+CD69-P...</td>\n",
       "    </tr>\n",
       "    <tr>\n",
       "      <th>4</th>\n",
       "      <td>CD4-CD8-CD3-CD45RA+CD27-CD19+CD103-CD28-CD69-P...</td>\n",
       "      <td>CD4-CD8-CD3-CD45RA+CD27-CD19+CD103-CD28-CD69-P...</td>\n",
       "    </tr>\n",
       "  </tbody>\n",
       "</table>\n",
       "</div>"
      ],
      "text/plain": [
       "                                         faustLabels  \\\n",
       "0  CD4+CD8-CD3+CD45RA-CD27+CD19-CD103-CD28+CD69-P...   \n",
       "1  CD4-CD8+CD3+CD45RA-CD27+CD19-CD103-CD28+CD69-P...   \n",
       "2  CD4-CD8+CD3+CD45RA-CD27+CD19-CD103+CD28+CD69+P...   \n",
       "3                                          0_0_0_0_0   \n",
       "4  CD4-CD8-CD3-CD45RA+CD27-CD19+CD103-CD28-CD69-P...   \n",
       "\n",
       "                                complete_faust_label  \n",
       "0  CD4+CD8-CD3+CD45RA-CD27+CD19-CD103-CD28+CD69-P...  \n",
       "1  CD4-CD8+CD3+CD45RA-CD27+CD19-CD103-CD28+CD69-P...  \n",
       "2  CD4-CD8+CD3+CD45RA-CD27+CD19-CD103+CD28+CD69+P...  \n",
       "3  CD4+CD8-CD3+CD45RA-CD27+CD19-CD103-CD28+CD69-P...  \n",
       "4  CD4-CD8-CD3-CD45RA+CD27-CD19+CD103-CD28-CD69-P...  "
      ]
     },
     "execution_count": 12,
     "metadata": {},
     "output_type": "execute_result"
    }
   ],
   "source": [
    "df['complete_faust_label'] = ''\n",
    "for marker in markers:\n",
    "    df['complete_faust_label'] += marker + df[f'{marker}_faust_annotation']\n",
    "    \n",
    "df[['faustLabels', 'complete_faust_label']].head(5)"
   ]
  },
  {
   "cell_type": "markdown",
   "id": "f0459752-b407-4fe7-ab22-65879bd37c18",
   "metadata": {},
   "source": [
    "Finally, we're extracting the expression levels detected by FAUST.\n",
    "\n",
    "Think of expression levels as simply a discretization of the \"raw\" expression values. E.g., if the protein's expression range is `[0,10]` we could choose to discretize the range into low and high, where low represents values in `[0,5]` and high represents values in `[5,10]`."
   ]
  },
  {
   "cell_type": "code",
   "execution_count": 13,
   "id": "c8c52ea0-a494-419d-8c2e-d124072393f4",
   "metadata": {},
   "outputs": [
    {
     "data": {
      "text/plain": [
       "['+', '-']"
      ]
     },
     "execution_count": 13,
     "metadata": {},
     "output_type": "execute_result"
    }
   ],
   "source": [
    "expression_levels = list(df.CD3_faust_annotation.unique())\n",
    "expression_levels"
   ]
  },
  {
   "cell_type": "markdown",
   "id": "18dcc225-b52e-417b-83e7-118c379ce5bc",
   "metadata": {},
   "source": [
    "## Data Transformation\n",
    "\n",
    "The following steps are the core of creating an annotation-driven embedding.\n",
    "\n",
    "For each cell type (i.e., cluster) and marker (i.e., feature) we winsozrize and standardize the expression values to have zero mean and unit variance. And then we translate the expression values of each marker according to the marker's expression level (positive or negative) to separate their expression ranges."
   ]
  },
  {
   "cell_type": "code",
   "execution_count": 14,
   "id": "2011e078-5fe0-43e0-8587-7a884d586405",
   "metadata": {},
   "outputs": [
    {
     "name": "stdout",
     "output_type": "stream",
     "text": [
      "Transform 0-999 of 5388 clusters... done! (17s)\n",
      "Transform 1000-1999 of 5388 clusters... done! (16s)\n",
      "Transform 2000-2999 of 5388 clusters... done! (15s)\n",
      "Transform 3000-3999 of 5388 clusters... done! (14s)\n",
      "Transform 4000-4999 of 5388 clusters... done! (15s)\n",
      "Transform 5000-5999 of 5388 clusters... "
     ]
    }
   ],
   "source": [
    "from scipy.stats.mstats import winsorize\n",
    "from time import time\n",
    "\n",
    "expression_level_translation = { '-': 0, '+': 1000 }\n",
    "\n",
    "faust_labels = df.complete_faust_label.unique()\n",
    "\n",
    "marker_annotation_cols = [f'{m}_faust_annotation' for m in markers]\n",
    "\n",
    "embedding_expression = raw_expression.copy()\n",
    "\n",
    "t = 0\n",
    "\n",
    "# For each cluster (i.e., cell phenotype defined by the FAUST label)\n",
    "for i, faust_label in enumerate(faust_labels):\n",
    "    if i % 1000 == 0:\n",
    "        t = time()\n",
    "        print(f'Transform {i}-{i + 999} of {len(faust_labels)} clusters... ', end='')\n",
    "        \n",
    "    # First, we get the indices of all data points belonging to the cluster (i.e., cell phenotype)\n",
    "    idxs = df.query(f'complete_faust_label == \"{faust_label}\"').index\n",
    "    \n",
    "    # 1. We winsorize the expression values to [0.01, 99.9]\n",
    "    embedding_expression[idxs] = winsorize(\n",
    "        embedding_expression[idxs],\n",
    "        limits=[0.01, 0.01],\n",
    "        axis=0,\n",
    "    )\n",
    "    \n",
    "    # 2. Then we standardize the expression values\n",
    "    # to have zero mean and unit standard deviation\n",
    "    mean = embedding_expression[idxs].mean(axis=0)\n",
    "    sd = np.nan_to_num(embedding_expression[idxs].std(axis=0))\n",
    "    sd[sd == 0] = 1\n",
    "    \n",
    "    embedding_expression[idxs] -= mean\n",
    "    embedding_expression[idxs] /= sd\n",
    "\n",
    "    # 3. Next, we translate the expressions values based on their expression levels\n",
    "    embedding_expression[idxs] += df.iloc[idxs[0]][marker_annotation_cols].map(\n",
    "        expression_level_translation\n",
    "    ).values\n",
    "    \n",
    "    if i % 1000 == 999:\n",
    "        print(f'done! ({round(time() - t)}s)')"
   ]
  },
  {
   "cell_type": "markdown",
   "id": "ee083d2c-736a-411d-8c30-0fc6abc651ee",
   "metadata": {},
   "source": [
    "### UMAP Embedding\n",
    "\n",
    "The last step is to embed the data using UMAP (or any other kind of dimensionality reduction tool)."
   ]
  },
  {
   "cell_type": "code",
   "execution_count": 15,
   "id": "ab68b140-8442-45cb-a0e8-3a44ea324c16",
   "metadata": {},
   "outputs": [],
   "source": [
    "from sklearn.decomposition import PCA\n",
    "from umap import UMAP\n",
    "\n",
    "pca = PCA(n_components=2).fit_transform(\n",
    "    df[[f'{m}_Windsorized' for m in markers]].values\n",
    ")\n",
    "\n",
    "embedding = UMAP(init=pca, random_state=42).fit_transform(embedding_expression)"
   ]
  },
  {
   "cell_type": "markdown",
   "id": "5d63cec7-5c29-4415-b1c3-544ef021987d",
   "metadata": {},
   "source": [
    "Let's save the embedded data for easy access later on"
   ]
  },
  {
   "cell_type": "code",
   "execution_count": 16,
   "id": "30923aaa-ec64-494a-b5f8-e090fcfb3dcf",
   "metadata": {},
   "outputs": [
    {
     "data": {
      "text/html": [
       "<div>\n",
       "<style scoped>\n",
       "    .dataframe tbody tr th:only-of-type {\n",
       "        vertical-align: middle;\n",
       "    }\n",
       "\n",
       "    .dataframe tbody tr th {\n",
       "        vertical-align: top;\n",
       "    }\n",
       "\n",
       "    .dataframe thead th {\n",
       "        text-align: right;\n",
       "    }\n",
       "</style>\n",
       "<table border=\"1\" class=\"dataframe\">\n",
       "  <thead>\n",
       "    <tr style=\"text-align: right;\">\n",
       "      <th></th>\n",
       "      <th>cellType</th>\n",
       "      <th>x</th>\n",
       "      <th>y</th>\n",
       "    </tr>\n",
       "  </thead>\n",
       "  <tbody>\n",
       "    <tr>\n",
       "      <th>0</th>\n",
       "      <td>CD4+CD8-CD3+CD45RA-CD27+CD19-CD103-CD28+CD69-P...</td>\n",
       "      <td>1.344373</td>\n",
       "      <td>-7.968547</td>\n",
       "    </tr>\n",
       "    <tr>\n",
       "      <th>1</th>\n",
       "      <td>CD4-CD8+CD3+CD45RA-CD27+CD19-CD103-CD28+CD69-P...</td>\n",
       "      <td>4.135707</td>\n",
       "      <td>8.410807</td>\n",
       "    </tr>\n",
       "    <tr>\n",
       "      <th>2</th>\n",
       "      <td>CD4-CD8+CD3+CD45RA-CD27+CD19-CD103+CD28+CD69+P...</td>\n",
       "      <td>-10.298281</td>\n",
       "      <td>7.296144</td>\n",
       "    </tr>\n",
       "    <tr>\n",
       "      <th>3</th>\n",
       "      <td>0_0_0_0_0</td>\n",
       "      <td>0.350603</td>\n",
       "      <td>-3.498238</td>\n",
       "    </tr>\n",
       "    <tr>\n",
       "      <th>4</th>\n",
       "      <td>CD4-CD8-CD3-CD45RA+CD27-CD19+CD103-CD28-CD69-P...</td>\n",
       "      <td>13.752163</td>\n",
       "      <td>6.420627</td>\n",
       "    </tr>\n",
       "  </tbody>\n",
       "</table>\n",
       "</div>"
      ],
      "text/plain": [
       "                                            cellType          x         y\n",
       "0  CD4+CD8-CD3+CD45RA-CD27+CD19-CD103-CD28+CD69-P...   1.344373 -7.968547\n",
       "1  CD4-CD8+CD3+CD45RA-CD27+CD19-CD103-CD28+CD69-P...   4.135707  8.410807\n",
       "2  CD4-CD8+CD3+CD45RA-CD27+CD19-CD103+CD28+CD69+P... -10.298281  7.296144\n",
       "3                                          0_0_0_0_0   0.350603 -3.498238\n",
       "4  CD4-CD8-CD3-CD45RA+CD27-CD19+CD103-CD28-CD69-P...  13.752163  6.420627"
      ]
     },
     "execution_count": 16,
     "metadata": {},
     "output_type": "execute_result"
    }
   ],
   "source": [
    "df_embedding = pd.concat(\n",
    "    [\n",
    "        pd.DataFrame(df.complete_faust_label.values, columns=['cellType']),\n",
    "        pd.DataFrame(embedding, columns=['x', 'y'])\n",
    "    ],\n",
    "    axis=1\n",
    ")\n",
    "df_embedding.cellType = df_embedding.cellType.where(\n",
    "    df.faustLabels != '0_0_0_0_0',\n",
    "    '0_0_0_0_0'\n",
    ").astype('category')\n",
    "\n",
    "df_embedding.to_parquet(f'data/{dataset_name}_embedding_umap.pq', compression='gzip')\n",
    "\n",
    "df_embedding.head()"
   ]
  },
  {
   "cell_type": "markdown",
   "id": "54fa8de8-896c-4710-bfec-45375ba8caf8",
   "metadata": {},
   "source": [
    "## Visualize Embedding"
   ]
  },
  {
   "cell_type": "code",
   "execution_count": 20,
   "id": "ece876eb-3354-4299-8ec0-a49cc3c1e9db",
   "metadata": {},
   "outputs": [
    {
     "data": {
      "application/vnd.jupyter.widget-view+json": {
       "model_id": "97733642373a42fb9dd52c12309ae3ee",
       "version_major": 2,
       "version_minor": 0
      },
      "text/plain": [
       "HBox(children=(VBox(children=(Button(button_style='primary', icon='arrows', layout=Layout(width='36px'), style…"
      ]
     },
     "metadata": {},
     "output_type": "display_data"
    }
   ],
   "source": [
    "# Uncomment the line below to load previously embedded data\n",
    "df_embedding = pd.read_parquet(f'data/{dataset_name}_embedding_umap.pq')\n",
    "\n",
    "scatter = jscatter.Scatter(\n",
    "    data=df_embedding.sort_values(by=['cellType']),\n",
    "    x='x',\n",
    "    y='y',\n",
    "    opacity=0.66,\n",
    "    color_by='cellType',\n",
    "    color_map=[gray_light]+glasbey_dark+glasbey_dark+glasbey_dark,\n",
    "    height=640,\n",
    ")\n",
    "scatter.show()"
   ]
  },
  {
   "cell_type": "code",
   "execution_count": null,
   "id": "09e9e93d-dbab-4e2d-a2b4-00c388f53521",
   "metadata": {},
   "outputs": [],
   "source": []
  }
 ],
 "metadata": {
  "kernelspec": {
   "display_name": "Python 3 (ipykernel)",
   "language": "python",
   "name": "python3"
  },
  "language_info": {
   "codemirror_mode": {
    "name": "ipython",
    "version": 3
   },
   "file_extension": ".py",
   "mimetype": "text/x-python",
   "name": "python",
   "nbconvert_exporter": "python",
   "pygments_lexer": "ipython3",
   "version": "3.9.13"
  }
 },
 "nbformat": 4,
 "nbformat_minor": 5
}
